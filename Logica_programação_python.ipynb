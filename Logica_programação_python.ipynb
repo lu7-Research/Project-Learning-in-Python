{
  "nbformat": 4,
  "nbformat_minor": 0,
  "metadata": {
    "colab": {
      "name": "Logica_programação_python.ipynb",
      "provenance": [],
      "authorship_tag": "ABX9TyNayxhFLFblnYCgF+VY5rS4",
      "include_colab_link": true
    },
    "kernelspec": {
      "name": "python3",
      "display_name": "Python 3"
    }
  },
  "cells": [
    {
      "cell_type": "markdown",
      "metadata": {
        "id": "view-in-github",
        "colab_type": "text"
      },
      "source": [
        "<a href=\"https://colab.research.google.com/github/lu7-Research/Project-Learning-in-Python/blob/main/Logica_programa%C3%A7%C3%A3o_python.ipynb\" target=\"_parent\"><img src=\"https://colab.research.google.com/assets/colab-badge.svg\" alt=\"Open In Colab\"/></a>"
      ]
    },
    {
      "cell_type": "code",
      "metadata": {
        "colab": {
          "base_uri": "https://localhost:8080/",
          "height": 35
        },
        "id": "_8ZsLGdNUvbz",
        "outputId": "cd5a4a77-b0d0-428e-ec68-e4fd4073d1e0"
      },
      "source": [
        "'lucas'"
      ],
      "execution_count": 1,
      "outputs": [
        {
          "output_type": "execute_result",
          "data": {
            "application/vnd.google.colaboratory.intrinsic+json": {
              "type": "string"
            },
            "text/plain": [
              "'lucas'"
            ]
          },
          "metadata": {
            "tags": []
          },
          "execution_count": 1
        }
      ]
    },
    {
      "cell_type": "code",
      "metadata": {
        "colab": {
          "base_uri": "https://localhost:8080/"
        },
        "id": "fAxUlRtTU3aU",
        "outputId": "47be2c8e-1072-4c25-c13d-20b762da3fc8"
      },
      "source": [
        "nome = 'lucas'\r\n",
        "print(nome)"
      ],
      "execution_count": 2,
      "outputs": [
        {
          "output_type": "stream",
          "text": [
            "lucas\n"
          ],
          "name": "stdout"
        }
      ]
    },
    {
      "cell_type": "code",
      "metadata": {
        "colab": {
          "base_uri": "https://localhost:8080/"
        },
        "id": "hF1rVN3gU_JM",
        "outputId": "54f52fac-23eb-492a-b540-47e7e39c95cb"
      },
      "source": [
        "idade = 25 \r\n",
        "print(idade)"
      ],
      "execution_count": 3,
      "outputs": [
        {
          "output_type": "stream",
          "text": [
            "25\n"
          ],
          "name": "stdout"
        }
      ]
    },
    {
      "cell_type": "code",
      "metadata": {
        "colab": {
          "base_uri": "https://localhost:8080/",
          "height": 35
        },
        "id": "t4KZhAzsVFI_",
        "outputId": "bd4321d8-8460-4390-a8eb-a9a3c16b7ced"
      },
      "source": [
        "nome"
      ],
      "execution_count": 4,
      "outputs": [
        {
          "output_type": "execute_result",
          "data": {
            "application/vnd.google.colaboratory.intrinsic+json": {
              "type": "string"
            },
            "text/plain": [
              "'lucas'"
            ]
          },
          "metadata": {
            "tags": []
          },
          "execution_count": 4
        }
      ]
    },
    {
      "cell_type": "code",
      "metadata": {
        "colab": {
          "base_uri": "https://localhost:8080/"
        },
        "id": "yM3S2C9MVG7L",
        "outputId": "ab11f346-cbec-43a4-9d7d-a583c1cc2c78"
      },
      "source": [
        "idade"
      ],
      "execution_count": 5,
      "outputs": [
        {
          "output_type": "execute_result",
          "data": {
            "text/plain": [
              "25"
            ]
          },
          "metadata": {
            "tags": []
          },
          "execution_count": 5
        }
      ]
    },
    {
      "cell_type": "code",
      "metadata": {
        "colab": {
          "base_uri": "https://localhost:8080/"
        },
        "id": "zOhfAbSCVIl8",
        "outputId": "e57f0772-6e7d-4f79-b07a-268d46794674"
      },
      "source": [
        "print('O nome é lucas e sua idade é 25 anos')"
      ],
      "execution_count": 6,
      "outputs": [
        {
          "output_type": "stream",
          "text": [
            "O nome é lucas e sua idade é 25 anos\n"
          ],
          "name": "stdout"
        }
      ]
    },
    {
      "cell_type": "code",
      "metadata": {
        "colab": {
          "base_uri": "https://localhost:8080/"
        },
        "id": "ueR4ry1LVYX8",
        "outputId": "2c4958ed-6d59-4f18-f4d4-57d424f0e543"
      },
      "source": [
        "print(f'O nome é {nome} e sua idade é {idade} anos ')"
      ],
      "execution_count": 7,
      "outputs": [
        {
          "output_type": "stream",
          "text": [
            "O nome é lucas e sua idade é 25 anos \n"
          ],
          "name": "stdout"
        }
      ]
    },
    {
      "cell_type": "markdown",
      "metadata": {
        "id": "9EHmDRChWe8Z"
      },
      "source": [
        "## Primeira Função"
      ]
    },
    {
      "cell_type": "code",
      "metadata": {
        "id": "dYPZqpxMWhwP"
      },
      "source": [
        "def saudacao():\r\n",
        "  nome = input('Qual o seu nome? ')\r\n",
        "  print(f'Olá {nome}')"
      ],
      "execution_count": 8,
      "outputs": []
    },
    {
      "cell_type": "code",
      "metadata": {
        "colab": {
          "base_uri": "https://localhost:8080/"
        },
        "id": "u1CUC7siX4ug",
        "outputId": "0a3691eb-0c58-4454-f019-98ea7a1519da"
      },
      "source": [
        "saudacao()"
      ],
      "execution_count": 9,
      "outputs": [
        {
          "output_type": "stream",
          "text": [
            "Qual o seu nome? Lucas \n",
            "Olá Lucas \n"
          ],
          "name": "stdout"
        }
      ]
    },
    {
      "cell_type": "code",
      "metadata": {
        "colab": {
          "base_uri": "https://localhost:8080/"
        },
        "id": "AMiJiEGbcSzf",
        "outputId": "f39f10c5-501f-4e94-cb28-8c6c03b8f9a2"
      },
      "source": [
        "def nome_completo():\r\n",
        " primeiro_nome = input('Qual seu primeiro nome? ')\r\n",
        " sobrenome = input('Qual seu sobrenome? ')\r\n",
        " nome_inteiro = primeiro_nome + ' ' + sobrenome\r\n",
        " print(nome_inteiro)\r\n",
        "\r\n",
        "nome_completo()"
      ],
      "execution_count": 10,
      "outputs": [
        {
          "output_type": "stream",
          "text": [
            "Qual seu primeiro nome? Lucas\n",
            "Qual seu sobrenome? Lima\n",
            "Lucas Lima\n"
          ],
          "name": "stdout"
        }
      ]
    },
    {
      "cell_type": "code",
      "metadata": {
        "colab": {
          "base_uri": "https://localhost:8080/"
        },
        "id": "bTE0c5Y3crdG",
        "outputId": "d563ab94-650f-4802-c896-1a01e0edf85c"
      },
      "source": [
        "def nome_cp():\r\n",
        "  primeiro_nm = input('Qual o seu primeiro nome? ')\r\n",
        "  segundo_nm = input('Qual o seu segundo nome? ')\r\n",
        "  ultimo_nm = input('Qual o seu ultimo nome?')\r\n",
        "  nome_int = primeiro_nm + ' ' + segundo_nm + ' ' + ultimo_nm \r\n",
        "  print(nome_int)\r\n",
        "\r\n",
        "nome_cp()"
      ],
      "execution_count": 11,
      "outputs": [
        {
          "output_type": "stream",
          "text": [
            "Qual o seu primeiro nome? Lucas\n",
            "Qual o seu segundo nome? Ferreira\n",
            "Qual o seu ultimo nome?Lima\n",
            "Lucas Ferreira Lima\n"
          ],
          "name": "stdout"
        }
      ]
    },
    {
      "cell_type": "markdown",
      "metadata": {
        "id": "NdRwrnPpflC2"
      },
      "source": [
        "## Parametros"
      ]
    },
    {
      "cell_type": "code",
      "metadata": {
        "id": "zUA9KsTke_fB"
      },
      "source": [
        "nome = ' luisa'"
      ],
      "execution_count": 12,
      "outputs": []
    },
    {
      "cell_type": "code",
      "metadata": {
        "id": "KIeJFPGkfHca"
      },
      "source": [
        "def saudacao_com_parametros(nome_da_pessoa):\r\n",
        "  print(f'Olá {nome_da_pessoa}')"
      ],
      "execution_count": 13,
      "outputs": []
    },
    {
      "cell_type": "code",
      "metadata": {
        "colab": {
          "base_uri": "https://localhost:8080/"
        },
        "id": "B0CxUTqufbI5",
        "outputId": "719f2da1-d550-48e2-fbc6-0ced6c92d36b"
      },
      "source": [
        "saudacao_com_parametros(nome)"
      ],
      "execution_count": 14,
      "outputs": [
        {
          "output_type": "stream",
          "text": [
            "Olá  luisa\n"
          ],
          "name": "stdout"
        }
      ]
    },
    {
      "cell_type": "markdown",
      "metadata": {
        "id": "IiQptUbVf5d9"
      },
      "source": [
        "## Condicional"
      ]
    },
    {
      "cell_type": "markdown",
      "metadata": {
        "id": "nP_vHwHAg2t-"
      },
      "source": [
        "Lembrar: Para usar condicional se , devemos usar 'if', para dizer se não devemos usar 'else:'"
      ]
    },
    {
      "cell_type": "code",
      "metadata": {
        "colab": {
          "base_uri": "https://localhost:8080/"
        },
        "id": "uDkJmnsufqh7",
        "outputId": "d619140a-82b5-4f9b-a1ed-a36959b8ddaa"
      },
      "source": [
        "idade = 20\r\n",
        "\r\n",
        "def verifica_se_dirigir_s_n(idade):\r\n",
        "  if idade>= 18:\r\n",
        "    print('Tem permissão para dirigir')\r\n",
        "  else: \r\n",
        "    print('Não tem permissão para dirigir')\r\n",
        "verifica_se_dirigir_s_n(idade)"
      ],
      "execution_count": 15,
      "outputs": [
        {
          "output_type": "stream",
          "text": [
            "Tem permissão para dirigir\n"
          ],
          "name": "stdout"
        }
      ]
    },
    {
      "cell_type": "markdown",
      "metadata": {
        "id": "NesapA0ditXV"
      },
      "source": [
        "## Convertendo para tipo inteiro\r\n",
        "Utiliza-se (variavél) = int ('campo que receberá a info')\r\n",
        "Parâmetros de uma função\r\n",
        "Funções em Python são blocos de código que executarão algum tipo de tarefa ou manipulação de dados, podendo ou não receber: dados de entrada (parâmetros)."
      ]
    },
    {
      "cell_type": "code",
      "metadata": {
        "colab": {
          "base_uri": "https://localhost:8080/"
        },
        "id": "zAgkQkbihdmi",
        "outputId": "fb0432af-a75d-49e7-89fe-54585c457b43"
      },
      "source": [
        "def verifica_se_dirigir_s_n_sem_parametros():\r\n",
        "  idade = input('Qual sua idade? ')\r\n",
        "  idade = int(idade)\r\n",
        "  if idade >=18:\r\n",
        "    print('Tem permissão para dirigir!')\r\n",
        "  else:\r\n",
        "    print('Não tem permissão para dirigir!')\r\n",
        "verifica_se_dirigir_s_n_sem_parametros()"
      ],
      "execution_count": 16,
      "outputs": [
        {
          "output_type": "stream",
          "text": [
            "Qual sua idade? 25\n",
            "Tem permissão para dirigir!\n"
          ],
          "name": "stdout"
        }
      ]
    },
    {
      "cell_type": "code",
      "metadata": {
        "colab": {
          "base_uri": "https://localhost:8080/"
        },
        "id": "3L-rJwN0ix5U",
        "outputId": "6a669846-30ba-4ad0-db45-eca1d52d0538"
      },
      "source": [
        "def velocidade(espaco, tempo):\r\n",
        " v = espaco / tempo\r\n",
        " print(f'Velocidade: {v} m/s')\r\n",
        "\r\n",
        "velocidade(100, 20)"
      ],
      "execution_count": 17,
      "outputs": [
        {
          "output_type": "stream",
          "text": [
            "Velocidade: 5.0 m/s\n"
          ],
          "name": "stdout"
        }
      ]
    },
    {
      "cell_type": "code",
      "metadata": {
        "colab": {
          "base_uri": "https://localhost:8080/"
        },
        "id": "8omBNXlTlM4m",
        "outputId": "ee5d268e-65ce-43d6-9bd5-7ea59afb6f5f"
      },
      "source": [
        "def habilitacao():\r\n",
        " idade = input('Qual sua idade? ')\r\n",
        " idade = int(idade)\r\n",
        " if idade >= 18:\r\n",
        "    print('Pode tirar habilitação')\r\n",
        " else:\r\n",
        "   tempo = 18 - idade\r\n",
        "   print(f'Calma... espere {tempo} ano(s) para tirar habilitação')\r\n",
        "\r\n",
        "habilitacao()"
      ],
      "execution_count": 18,
      "outputs": [
        {
          "output_type": "stream",
          "text": [
            "Qual sua idade? 22\n",
            "Pode tirar habilitação\n"
          ],
          "name": "stdout"
        }
      ]
    },
    {
      "cell_type": "markdown",
      "metadata": {
        "id": "DRubzxz92FrJ"
      },
      "source": [
        "## Lista"
      ]
    },
    {
      "cell_type": "code",
      "metadata": {
        "colab": {
          "base_uri": "https://localhost:8080/"
        },
        "id": "DHB59jRElg59",
        "outputId": "9e3e4c99-4189-4844-c4b0-441b0212c8c9"
      },
      "source": [
        "idades = [18, 22, 15, 50]\r\n",
        "type(idades)"
      ],
      "execution_count": 19,
      "outputs": [
        {
          "output_type": "execute_result",
          "data": {
            "text/plain": [
              "list"
            ]
          },
          "metadata": {
            "tags": []
          },
          "execution_count": 19
        }
      ]
    },
    {
      "cell_type": "code",
      "metadata": {
        "id": "jG-6syVi2fOI"
      },
      "source": [
        "idades = [18, 22, 15, 50]\r\n",
        "#          0   1   2   3"
      ],
      "execution_count": 20,
      "outputs": []
    },
    {
      "cell_type": "code",
      "metadata": {
        "colab": {
          "base_uri": "https://localhost:8080/"
        },
        "id": "wQMHbpFW2uIC",
        "outputId": "383289cf-e46c-42ec-cb17-15c6587bcd7a"
      },
      "source": [
        "idades[2]"
      ],
      "execution_count": 21,
      "outputs": [
        {
          "output_type": "execute_result",
          "data": {
            "text/plain": [
              "15"
            ]
          },
          "metadata": {
            "tags": []
          },
          "execution_count": 21
        }
      ]
    },
    {
      "cell_type": "code",
      "metadata": {
        "colab": {
          "base_uri": "https://localhost:8080/"
        },
        "id": "Z2SEUvv320mT",
        "outputId": "4d2054c1-6868-4930-9af3-8e9856c41584"
      },
      "source": [
        "idades[1]"
      ],
      "execution_count": 22,
      "outputs": [
        {
          "output_type": "execute_result",
          "data": {
            "text/plain": [
              "22"
            ]
          },
          "metadata": {
            "tags": []
          },
          "execution_count": 22
        }
      ]
    },
    {
      "cell_type": "code",
      "metadata": {
        "colab": {
          "base_uri": "https://localhost:8080/"
        },
        "id": "hu4n4Tx-3jBv",
        "outputId": "bbe249a1-5b53-46fd-b47a-15f11b41c2fc"
      },
      "source": [
        "idades[:]"
      ],
      "execution_count": 23,
      "outputs": [
        {
          "output_type": "execute_result",
          "data": {
            "text/plain": [
              "[18, 22, 15, 50]"
            ]
          },
          "metadata": {
            "tags": []
          },
          "execution_count": 23
        }
      ]
    },
    {
      "cell_type": "code",
      "metadata": {
        "colab": {
          "base_uri": "https://localhost:8080/"
        },
        "id": "1KC1_ZBj3oQx",
        "outputId": "9c7ce341-1f1b-4aba-a4f6-70f37b5e3e18"
      },
      "source": [
        "idades[-2]"
      ],
      "execution_count": 24,
      "outputs": [
        {
          "output_type": "execute_result",
          "data": {
            "text/plain": [
              "15"
            ]
          },
          "metadata": {
            "tags": []
          },
          "execution_count": 24
        }
      ]
    },
    {
      "cell_type": "markdown",
      "metadata": {
        "id": "EOAey9Ph5KyD"
      },
      "source": [
        "## LAÇOS E LOOPS"
      ]
    },
    {
      "cell_type": "code",
      "metadata": {
        "colab": {
          "base_uri": "https://localhost:8080/"
        },
        "id": "-k27RjYo5Gox",
        "outputId": "5431f52b-fc2b-43c5-e206-a54098660e8c"
      },
      "source": [
        "def verifica_se_dirigir_s_n(idade):\r\n",
        "  if idade>=18:\r\n",
        "    print(f'{idade} anos de idade, TEM permissão para dirigir')\r\n",
        "  else:\r\n",
        "    print(f'{idade} anos de idade, NÂO TEM permissão para dirigir')\r\n",
        "for idade in idades:\r\n",
        "  verifica_se_dirigir_s_n(idade)"
      ],
      "execution_count": 25,
      "outputs": [
        {
          "output_type": "stream",
          "text": [
            "18 anos de idade, TEM permissão para dirigir\n",
            "22 anos de idade, TEM permissão para dirigir\n",
            "15 anos de idade, NÂO TEM permissão para dirigir\n",
            "50 anos de idade, TEM permissão para dirigir\n"
          ],
          "name": "stdout"
        }
      ]
    },
    {
      "cell_type": "code",
      "metadata": {
        "colab": {
          "base_uri": "https://localhost:8080/"
        },
        "id": "OXHeH0eC4I06",
        "outputId": "8ed54a63-efe9-4768-b763-34df9779cb2d"
      },
      "source": [
        "def verifica_se_dirigir_s_n(idades):\r\n",
        "  for idade in idades:\r\n",
        "    if idade>=18:\r\n",
        "      print(f'{idade} anos de idade, TEM permissão para dirigir')\r\n",
        "    else:\r\n",
        "      print(f'{idade} anos de idade, NÂO TEM permissão para dirigir')\r\n",
        "verifica_se_dirigir_s_n(idades)"
      ],
      "execution_count": 26,
      "outputs": [
        {
          "output_type": "stream",
          "text": [
            "18 anos de idade, TEM permissão para dirigir\n",
            "22 anos de idade, TEM permissão para dirigir\n",
            "15 anos de idade, NÂO TEM permissão para dirigir\n",
            "50 anos de idade, TEM permissão para dirigir\n"
          ],
          "name": "stdout"
        }
      ]
    },
    {
      "cell_type": "markdown",
      "metadata": {
        "id": "yQyta-bFWyNv"
      },
      "source": [
        "## Tipo Boleano"
      ]
    },
    {
      "cell_type": "code",
      "metadata": {
        "id": "zCAN1CW96UhS",
        "colab": {
          "base_uri": "https://localhost:8080/"
        },
        "outputId": "7e02c88f-d397-4acb-d59c-683c80980f3a"
      },
      "source": [
        "idade = 18\r\n",
        "idade >=18"
      ],
      "execution_count": 28,
      "outputs": [
        {
          "output_type": "execute_result",
          "data": {
            "text/plain": [
              "True"
            ]
          },
          "metadata": {
            "tags": []
          },
          "execution_count": 28
        }
      ]
    },
    {
      "cell_type": "code",
      "metadata": {
        "colab": {
          "base_uri": "https://localhost:8080/"
        },
        "id": "F_fL5xjgW2vT",
        "outputId": "001f6f55-1144-46b4-ed3c-c127ca71b8fe"
      },
      "source": [
        "idade = 18\r\n",
        "idade >=20"
      ],
      "execution_count": 30,
      "outputs": [
        {
          "output_type": "execute_result",
          "data": {
            "text/plain": [
              "False"
            ]
          },
          "metadata": {
            "tags": []
          },
          "execution_count": 30
        }
      ]
    },
    {
      "cell_type": "code",
      "metadata": {
        "id": "F8j0073nW9Rv"
      },
      "source": [
        "permissoes = []\r\n",
        "idades = [20, 14 , 40]\r\n",
        "\r\n",
        "def verifica_se_dirigir_s_n(idades, permissoes):\r\n",
        "  for idade in idades:\r\n",
        "    if idade>=18:\r\n",
        "      permissoes.append(True)\r\n",
        "    else:\r\n",
        "      permissoes.append(False)\r\n",
        "verifica_se_dirigir_s_n(idades, permissoes)"
      ],
      "execution_count": 31,
      "outputs": []
    },
    {
      "cell_type": "code",
      "metadata": {
        "colab": {
          "base_uri": "https://localhost:8080/"
        },
        "id": "_5JomPo2XoDr",
        "outputId": "251db737-2fe7-49bf-f693-2c868605f5c7"
      },
      "source": [
        "permissoes"
      ],
      "execution_count": 32,
      "outputs": [
        {
          "output_type": "execute_result",
          "data": {
            "text/plain": [
              "[True, False, True]"
            ]
          },
          "metadata": {
            "tags": []
          },
          "execution_count": 32
        }
      ]
    },
    {
      "cell_type": "code",
      "metadata": {
        "colab": {
          "base_uri": "https://localhost:8080/"
        },
        "id": "N1Hg-wJQXqHo",
        "outputId": "4887c26d-928e-478a-fa42-d77c3e93ff46"
      },
      "source": [
        "for permissao in permissoes:\r\n",
        "  if permissao == True:\r\n",
        "    print('Tem permissao para dirigir')\r\n",
        "  else:\r\n",
        "    print('Não tem permissao para dirigir')"
      ],
      "execution_count": 33,
      "outputs": [
        {
          "output_type": "stream",
          "text": [
            "Tem permissao para dirigir\n",
            "Não tem permissao para dirigir\n",
            "Tem permissao para dirigir\n"
          ],
          "name": "stdout"
        }
      ]
    },
    {
      "cell_type": "code",
      "metadata": {
        "id": "xNsL_4f9YLpA"
      },
      "source": [
        " a=2"
      ],
      "execution_count": 35,
      "outputs": []
    },
    {
      "cell_type": "code",
      "metadata": {
        "colab": {
          "base_uri": "https://localhost:8080/"
        },
        "id": "Pnt6n-9oY__P",
        "outputId": "589fae18-9522-46ad-e3a3-a73462e500ce"
      },
      "source": [
        "if a < 2:\r\n",
        " a = a + 1\r\n",
        "else:\r\n",
        " a = a + 2\r\n",
        "if a < 4:\r\n",
        " a = a - 4\r\n",
        "else:\r\n",
        " a = a + 6\r\n",
        "\r\n",
        "a"
      ],
      "execution_count": 36,
      "outputs": [
        {
          "output_type": "execute_result",
          "data": {
            "text/plain": [
              "10"
            ]
          },
          "metadata": {
            "tags": []
          },
          "execution_count": 36
        }
      ]
    },
    {
      "cell_type": "markdown",
      "metadata": {
        "id": "sSE_VDGjZ713"
      },
      "source": [
        "## Tipos em uma lista"
      ]
    },
    {
      "cell_type": "code",
      "metadata": {
        "colab": {
          "base_uri": "https://localhost:8080/"
        },
        "id": "lu-aXZslZFpz",
        "outputId": "77b76bdc-33c2-4c64-a32c-541315d36349"
      },
      "source": [
        "lista = ['Lucas', 25, True, '18']\r\n",
        "\r\n",
        "for elemento in lista:\r\n",
        "  print(f'O elemento {elemento} é do tipo: ',type(elemento))"
      ],
      "execution_count": 37,
      "outputs": [
        {
          "output_type": "stream",
          "text": [
            "O elemento Lucas é do tipo:  <class 'str'>\n",
            "O elemento 25 é do tipo:  <class 'int'>\n",
            "O elemento True é do tipo:  <class 'bool'>\n",
            "O elemento 18 é do tipo:  <class 'str'>\n"
          ],
          "name": "stdout"
        }
      ]
    },
    {
      "cell_type": "markdown",
      "metadata": {
        "id": "Xy2DUM0qbMCv"
      },
      "source": [
        "## Import"
      ]
    },
    {
      "cell_type": "code",
      "metadata": {
        "id": "gsd9ySFhaWrx"
      },
      "source": [
        "from random import randrange, seed"
      ],
      "execution_count": 45,
      "outputs": []
    },
    {
      "cell_type": "code",
      "metadata": {
        "id": "OoUVKlQwc3Cw"
      },
      "source": [
        "seed(12)"
      ],
      "execution_count": 60,
      "outputs": []
    },
    {
      "cell_type": "code",
      "metadata": {
        "colab": {
          "base_uri": "https://localhost:8080/"
        },
        "id": "X42GC7jXbYHS",
        "outputId": "58781d28-e4e2-4160-f172-3419750247b3"
      },
      "source": [
        "randrange(0, 11)"
      ],
      "execution_count": 61,
      "outputs": [
        {
          "output_type": "execute_result",
          "data": {
            "text/plain": [
              "7"
            ]
          },
          "metadata": {
            "tags": []
          },
          "execution_count": 61
        }
      ]
    },
    {
      "cell_type": "code",
      "metadata": {
        "colab": {
          "base_uri": "https://localhost:8080/"
        },
        "id": "r7o6ZhPibmkP",
        "outputId": "04051b16-b58c-44f9-a8a5-05a80c64a8cc"
      },
      "source": [
        "notas_mat = []\r\n",
        "for notas in range(8):\r\n",
        "  notas_mat.append(randrange(0, 11))\r\n",
        "\r\n",
        "notas_mat"
      ],
      "execution_count": 62,
      "outputs": [
        {
          "output_type": "execute_result",
          "data": {
            "text/plain": [
              "[4, 10, 8, 10, 5, 2, 6, 0]"
            ]
          },
          "metadata": {
            "tags": []
          },
          "execution_count": 62
        }
      ]
    },
    {
      "cell_type": "code",
      "metadata": {
        "colab": {
          "base_uri": "https://localhost:8080/"
        },
        "id": "GeVSyeiecT5C",
        "outputId": "ed08dc60-58dd-40d7-e940-cf8d3370117c"
      },
      "source": [
        "len(notas_mat)"
      ],
      "execution_count": 63,
      "outputs": [
        {
          "output_type": "execute_result",
          "data": {
            "text/plain": [
              "8"
            ]
          },
          "metadata": {
            "tags": []
          },
          "execution_count": 63
        }
      ]
    },
    {
      "cell_type": "code",
      "metadata": {
        "id": "_JSRomecd3Y0"
      },
      "source": [
        "lista = ['int', False, True, '18', 2020]"
      ],
      "execution_count": 64,
      "outputs": []
    },
    {
      "cell_type": "code",
      "metadata": {
        "colab": {
          "base_uri": "https://localhost:8080/"
        },
        "id": "rvgVbPa0d3vH",
        "outputId": "915c82cc-2fa6-41af-a13e-6e3244f2b7d1"
      },
      "source": [
        "for elemento in lista:\r\n",
        " print(type(elemento))"
      ],
      "execution_count": 65,
      "outputs": [
        {
          "output_type": "stream",
          "text": [
            "<class 'str'>\n",
            "<class 'bool'>\n",
            "<class 'bool'>\n",
            "<class 'str'>\n",
            "<class 'int'>\n"
          ],
          "name": "stdout"
        }
      ]
    },
    {
      "cell_type": "markdown",
      "metadata": {
        "id": "Jlk5tNlWevd2"
      },
      "source": [
        "# Matplotlib"
      ]
    },
    {
      "cell_type": "code",
      "metadata": {
        "id": "GMwpr63dezc_"
      },
      "source": [
        "import matplotlib.pyplot as plt"
      ],
      "execution_count": 66,
      "outputs": []
    },
    {
      "cell_type": "code",
      "metadata": {
        "colab": {
          "base_uri": "https://localhost:8080/",
          "height": 295
        },
        "id": "C3kxeYQMfBB8",
        "outputId": "d4bd3da8-eaa2-45b0-f88d-b03082ac8a1e"
      },
      "source": [
        "x = list(range(1,9))\r\n",
        "y = notas_mat\r\n",
        "plt.plot(x, y, marker='o')\r\n",
        "plt.title('Notas de Matemática')\r\n",
        "plt.xlabel('Provas')\r\n",
        "plt.ylabel('Notas')\r\n",
        "plt.show()"
      ],
      "execution_count": 73,
      "outputs": [
        {
          "output_type": "display_data",
          "data": {
            "image/png": "[encoded data removed]",
            "text/plain": [
              "<Figure size 432x288 with 1 Axes>"
            ]
          },
          "metadata": {
            "tags": [],
            "needs_background": "light"
          }
        }
      ]
    },
    {
      "cell_type": "code",
      "metadata": {
        "colab": {
          "base_uri": "https://localhost:8080/"
        },
        "id": "A78eOPdtgZQj",
        "outputId": "4a99b815-0be6-4bed-8eec-6d051d99d583"
      },
      "source": [
        "notas_mat"
      ],
      "execution_count": 74,
      "outputs": [
        {
          "output_type": "execute_result",
          "data": {
            "text/plain": [
              "[4, 10, 8, 10, 5, 2, 6, 0]"
            ]
          },
          "metadata": {
            "tags": []
          },
          "execution_count": 74
        }
      ]
    },
    {
      "cell_type": "code",
      "metadata": {
        "id": "hHUTH4C7g9xm"
      },
      "source": [
        "import matplotlib.pyplot as plt\r\n",
        "\r\n",
        "notas_matematica = ['Matemática',8,7,6,6,7,7,8,10]\r\n",
        "notas_portugues = ['Português',9,9,9,8,5,6,8,5]\r\n",
        "notas_geografia = ['Geografia',10,10,6,7,7,7,8,7]\r\n",
        "\r\n",
        "notas = [notas_matematica, notas_portugues, notas_geografia]"
      ],
      "execution_count": 75,
      "outputs": []
    },
    {
      "cell_type": "code",
      "metadata": {
        "colab": {
          "base_uri": "https://localhost:8080/",
          "height": 295
        },
        "id": "4NKWOrdGg-dW",
        "outputId": "71db8711-004d-4671-d5b4-67151d78cf3d"
      },
      "source": [
        "x = list(range(1,9))\r\n",
        "y = notas_mat\r\n",
        "plt.plot(x, y, marker='o')\r\n",
        "plt.title('Notas anuais')\r\n",
        "plt.xlabel('Provas')\r\n",
        "plt.ylabel('Notas')\r\n",
        "plt.show()"
      ],
      "execution_count": 76,
      "outputs": [
        {
          "output_type": "display_data",
          "data": {
            "image/png": "[encoded data removed]",
            "text/plain": [
              "<Figure size 432x288 with 1 Axes>"
            ]
          },
          "metadata": {
            "tags": [],
            "needs_background": "light"
          }
        }
      ]
    }
  ]
}