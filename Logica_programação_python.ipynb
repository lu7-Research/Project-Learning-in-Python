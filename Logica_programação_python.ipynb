{
  "nbformat": 4,
  "nbformat_minor": 0,
  "metadata": {
    "colab": {
      "name": "Logica_programação_python.ipynb",
      "provenance": [],
      "authorship_tag": "ABX9TyPRgvzyqXqf+9WOvBo2qS9o",
      "include_colab_link": true
    },
    "kernelspec": {
      "name": "python3",
      "display_name": "Python 3"
    }
  },
  "cells": [
    {
      "cell_type": "markdown",
      "metadata": {
        "id": "view-in-github",
        "colab_type": "text"
      },
      "source": [
        "<a href=\"https://colab.research.google.com/github/lu7-Research/Project-Learning-in-Python/blob/main/Logica_programa%C3%A7%C3%A3o_python.ipynb\" target=\"_parent\"><img src=\"https://colab.research.google.com/assets/colab-badge.svg\" alt=\"Open In Colab\"/></a>"
      ]
    },
    {
      "cell_type": "code",
      "metadata": {
        "colab": {
          "base_uri": "https://localhost:8080/",
          "height": 35
        },
        "id": "_8ZsLGdNUvbz",
        "outputId": "32e8d641-ca97-4dc6-df73-699414af19e1"
      },
      "source": [
        "'lucas'"
      ],
      "execution_count": 2,
      "outputs": [
        {
          "output_type": "execute_result",
          "data": {
            "application/vnd.google.colaboratory.intrinsic+json": {
              "type": "string"
            },
            "text/plain": [
              "'lucas'"
            ]
          },
          "metadata": {
            "tags": []
          },
          "execution_count": 2
        }
      ]
    },
    {
      "cell_type": "code",
      "metadata": {
        "colab": {
          "base_uri": "https://localhost:8080/"
        },
        "id": "fAxUlRtTU3aU",
        "outputId": "733bb9ec-23e6-4d1e-d97b-0407708f1891"
      },
      "source": [
        "nome = 'lucas'\r\n",
        "print(nome)"
      ],
      "execution_count": 4,
      "outputs": [
        {
          "output_type": "stream",
          "text": [
            "lucas\n"
          ],
          "name": "stdout"
        }
      ]
    },
    {
      "cell_type": "code",
      "metadata": {
        "colab": {
          "base_uri": "https://localhost:8080/"
        },
        "id": "hF1rVN3gU_JM",
        "outputId": "c441edec-8e01-4a16-a007-a5ead557a790"
      },
      "source": [
        "idade = 25 \r\n",
        "print(idade)"
      ],
      "execution_count": 6,
      "outputs": [
        {
          "output_type": "stream",
          "text": [
            "25\n"
          ],
          "name": "stdout"
        }
      ]
    },
    {
      "cell_type": "code",
      "metadata": {
        "colab": {
          "base_uri": "https://localhost:8080/",
          "height": 35
        },
        "id": "t4KZhAzsVFI_",
        "outputId": "be6d32f2-d323-40b3-a909-14f2ca26230e"
      },
      "source": [
        "nome"
      ],
      "execution_count": 7,
      "outputs": [
        {
          "output_type": "execute_result",
          "data": {
            "application/vnd.google.colaboratory.intrinsic+json": {
              "type": "string"
            },
            "text/plain": [
              "'lucas'"
            ]
          },
          "metadata": {
            "tags": []
          },
          "execution_count": 7
        }
      ]
    },
    {
      "cell_type": "code",
      "metadata": {
        "colab": {
          "base_uri": "https://localhost:8080/"
        },
        "id": "yM3S2C9MVG7L",
        "outputId": "17c9531f-a04d-497f-fc36-c7eb8541b927"
      },
      "source": [
        "idade"
      ],
      "execution_count": 8,
      "outputs": [
        {
          "output_type": "execute_result",
          "data": {
            "text/plain": [
              "25"
            ]
          },
          "metadata": {
            "tags": []
          },
          "execution_count": 8
        }
      ]
    },
    {
      "cell_type": "code",
      "metadata": {
        "colab": {
          "base_uri": "https://localhost:8080/"
        },
        "id": "zOhfAbSCVIl8",
        "outputId": "9308a45e-6b36-4e0e-8e6e-c78140adc027"
      },
      "source": [
        "print('O nome é lucas e sua idade é 25 anos')"
      ],
      "execution_count": 9,
      "outputs": [
        {
          "output_type": "stream",
          "text": [
            "O nome é lucas e sua idade é 25 anos\n"
          ],
          "name": "stdout"
        }
      ]
    },
    {
      "cell_type": "code",
      "metadata": {
        "colab": {
          "base_uri": "https://localhost:8080/"
        },
        "id": "ueR4ry1LVYX8",
        "outputId": "a1041958-5884-4abb-a716-b53a8d995547"
      },
      "source": [
        "print(f'O nome é {nome} e sua idade é {idade} anos ')"
      ],
      "execution_count": 10,
      "outputs": [
        {
          "output_type": "stream",
          "text": [
            "O nome é lucas e sua idade é 25 anos \n"
          ],
          "name": "stdout"
        }
      ]
    },
    {
      "cell_type": "markdown",
      "metadata": {
        "id": "9EHmDRChWe8Z"
      },
      "source": [
        "## Primeira Função"
      ]
    },
    {
      "cell_type": "code",
      "metadata": {
        "id": "dYPZqpxMWhwP"
      },
      "source": [
        "def saudacao():\r\n",
        "  nome = input('Qual o seu nome? ')\r\n",
        "  print(f'Olá {nome}')"
      ],
      "execution_count": 23,
      "outputs": []
    },
    {
      "cell_type": "code",
      "metadata": {
        "colab": {
          "base_uri": "https://localhost:8080/"
        },
        "id": "u1CUC7siX4ug",
        "outputId": "a8708880-2362-4245-9937-3a048e5a8864"
      },
      "source": [
        "saudacao()"
      ],
      "execution_count": 24,
      "outputs": [
        {
          "output_type": "stream",
          "text": [
            "Qual o seu nome? Lucas\n",
            "Olá Lucas\n"
          ],
          "name": "stdout"
        }
      ]
    },
    {
      "cell_type": "code",
      "metadata": {
        "colab": {
          "base_uri": "https://localhost:8080/"
        },
        "id": "AMiJiEGbcSzf",
        "outputId": "8f3fde55-f484-4751-9a33-41afe6bab58c"
      },
      "source": [
        "def nome_completo():\r\n",
        " primeiro_nome = input('Qual seu primeiro nome? ')\r\n",
        " sobrenome = input('Qual seu sobrenome? ')\r\n",
        " nome_inteiro = primeiro_nome + ' ' + sobrenome\r\n",
        " print(nome_inteiro)\r\n",
        "\r\n",
        "nome_completo()"
      ],
      "execution_count": 27,
      "outputs": [
        {
          "output_type": "stream",
          "text": [
            "Qual seu primeiro nome? Lucas \n",
            "Qual seu sobrenome? Lima\n",
            "Lucas  Lima\n"
          ],
          "name": "stdout"
        }
      ]
    },
    {
      "cell_type": "code",
      "metadata": {
        "colab": {
          "base_uri": "https://localhost:8080/"
        },
        "id": "bTE0c5Y3crdG",
        "outputId": "530cbf90-1038-4a78-8ceb-b3b2bbdef4fc"
      },
      "source": [
        "def nome_cp():\r\n",
        "  primeiro_nm = input('Qual o seu primeiro nome? ')\r\n",
        "  segundo_nm = input('Qual o seu segundo nome? ')\r\n",
        "  ultimo_nm = input('Qual o seu ultimo nome?')\r\n",
        "  nome_int = primeiro_nm + ' ' + segundo_nm + ' ' + ultimo_nm \r\n",
        "  print(nome_int)\r\n",
        "\r\n",
        "nome_cp()"
      ],
      "execution_count": 37,
      "outputs": [
        {
          "output_type": "stream",
          "text": [
            "Qual o seu primeiro nome? Lucas\n",
            "Qual o seu segundo nome? Ferreira\n",
            "Qual o seu ultimo nome?de Lima\n",
            "Lucas Ferreira de Lima\n"
          ],
          "name": "stdout"
        }
      ]
    },
    {
      "cell_type": "markdown",
      "metadata": {
        "id": "NdRwrnPpflC2"
      },
      "source": [
        "## Parametros"
      ]
    },
    {
      "cell_type": "code",
      "metadata": {
        "id": "zUA9KsTke_fB"
      },
      "source": [
        "nome = ' luisa'"
      ],
      "execution_count": 38,
      "outputs": []
    },
    {
      "cell_type": "code",
      "metadata": {
        "id": "KIeJFPGkfHca"
      },
      "source": [
        "def saudacao_com_parametros(nome_da_pessoa):\r\n",
        "  print(f'Olá {nome_da_pessoa}')"
      ],
      "execution_count": 40,
      "outputs": []
    },
    {
      "cell_type": "code",
      "metadata": {
        "colab": {
          "base_uri": "https://localhost:8080/"
        },
        "id": "B0CxUTqufbI5",
        "outputId": "4a3ff79a-c437-41d8-d655-609a9b2e917f"
      },
      "source": [
        "saudacao_com_parametros(nome)"
      ],
      "execution_count": 43,
      "outputs": [
        {
          "output_type": "stream",
          "text": [
            "Olá  luisa\n"
          ],
          "name": "stdout"
        }
      ]
    },
    {
      "cell_type": "markdown",
      "metadata": {
        "id": "IiQptUbVf5d9"
      },
      "source": [
        "## Condicional"
      ]
    },
    {
      "cell_type": "markdown",
      "metadata": {
        "id": "nP_vHwHAg2t-"
      },
      "source": [
        "Lembrar: Para usar condicional se , devemos usar 'if', para dizer se não devemos usar 'else:'"
      ]
    },
    {
      "cell_type": "code",
      "metadata": {
        "colab": {
          "base_uri": "https://localhost:8080/"
        },
        "id": "uDkJmnsufqh7",
        "outputId": "83021471-da53-427c-88c4-d81a7d50d04d"
      },
      "source": [
        "idade = 20\r\n",
        "\r\n",
        "def verifica_se_dirigir_s_n(idade):\r\n",
        "  if idade>= 18:\r\n",
        "    print('Tem permissão para dirigir')\r\n",
        "  else: \r\n",
        "    print('Não tem permissão para dirigir')\r\n",
        "verifica_se_dirigir_s_n(idade)"
      ],
      "execution_count": 56,
      "outputs": [
        {
          "output_type": "stream",
          "text": [
            "Tem permissão para dirigir\n"
          ],
          "name": "stdout"
        }
      ]
    },
    {
      "cell_type": "markdown",
      "metadata": {
        "id": "NesapA0ditXV"
      },
      "source": [
        "## Convertendo para tipo inteiro\r\n",
        "Utiliza-se (variavél) = int ('campo que receberá a info')\r\n",
        "Parâmetros de uma função\r\n",
        "Funções em Python são blocos de código que executarão algum tipo de tarefa ou manipulação de dados, podendo ou não receber: dados de entrada (parâmetros)."
      ]
    },
    {
      "cell_type": "code",
      "metadata": {
        "colab": {
          "base_uri": "https://localhost:8080/"
        },
        "id": "zAgkQkbihdmi",
        "outputId": "5edc7db8-3bd8-4f25-f0ff-4ef9a0930570"
      },
      "source": [
        "def verifica_se_dirigir_s_n_sem_parametros():\r\n",
        "  idade = input('Qual sua idade? ')\r\n",
        "  idade = int(idade)\r\n",
        "  if idade >=18:\r\n",
        "    print('Tem permissão para dirigir!')\r\n",
        "  else:\r\n",
        "    print('Não tem permissão para dirigir!')\r\n",
        "verifica_se_dirigir_s_n_sem_parametros()"
      ],
      "execution_count": 65,
      "outputs": [
        {
          "output_type": "stream",
          "text": [
            "Qual sua idade? 10\n",
            "Não tem permissão para dirigir!\n"
          ],
          "name": "stdout"
        }
      ]
    },
    {
      "cell_type": "code",
      "metadata": {
        "colab": {
          "base_uri": "https://localhost:8080/"
        },
        "id": "3L-rJwN0ix5U",
        "outputId": "f860fbbc-4f84-4d89-df6c-1768d43f64f7"
      },
      "source": [
        "def velocidade(espaco, tempo):\r\n",
        " v = espaco / tempo\r\n",
        " print(f'Velocidade: {v} m/s')\r\n",
        "\r\n",
        "velocidade(100, 20)"
      ],
      "execution_count": 67,
      "outputs": [
        {
          "output_type": "stream",
          "text": [
            "Velocidade: 5.0 m/s\n"
          ],
          "name": "stdout"
        }
      ]
    },
    {
      "cell_type": "code",
      "metadata": {
        "colab": {
          "base_uri": "https://localhost:8080/"
        },
        "id": "8omBNXlTlM4m",
        "outputId": "b1959036-c9c6-4272-f6bc-9b84ea2768e0"
      },
      "source": [
        "def habilitacao():\r\n",
        " idade = input('Qual sua idade? ')\r\n",
        " idade = int(idade)\r\n",
        " if idade >= 18:\r\n",
        "    print('Pode tirar habilitação')\r\n",
        " else:\r\n",
        "   tempo = 18 - idade\r\n",
        "   print(f'Calma... espere {tempo} ano(s) para tirar habilitação')\r\n",
        "\r\n",
        "habilitacao()"
      ],
      "execution_count": 82,
      "outputs": [
        {
          "output_type": "stream",
          "text": [
            "Qual sua idade? 11\n",
            "Calma... espere 7 ano(s) para tirar habilitação\n"
          ],
          "name": "stdout"
        }
      ]
    },
    {
      "cell_type": "markdown",
      "metadata": {
        "id": "DRubzxz92FrJ"
      },
      "source": [
        "## Lista"
      ]
    },
    {
      "cell_type": "code",
      "metadata": {
        "colab": {
          "base_uri": "https://localhost:8080/"
        },
        "id": "DHB59jRElg59",
        "outputId": "9373f0f6-8b7c-436f-d204-6a78cb632385"
      },
      "source": [
        "idades = [18, 22, 15, 50]\r\n",
        "type(idades)"
      ],
      "execution_count": 111,
      "outputs": [
        {
          "output_type": "execute_result",
          "data": {
            "text/plain": [
              "list"
            ]
          },
          "metadata": {
            "tags": []
          },
          "execution_count": 111
        }
      ]
    },
    {
      "cell_type": "code",
      "metadata": {
        "id": "jG-6syVi2fOI"
      },
      "source": [
        "idades = [18, 22, 15, 50]\r\n",
        "#          0   1   2   3"
      ],
      "execution_count": 112,
      "outputs": []
    },
    {
      "cell_type": "code",
      "metadata": {
        "colab": {
          "base_uri": "https://localhost:8080/"
        },
        "id": "wQMHbpFW2uIC",
        "outputId": "2cbd6dff-1e5c-4bc8-979b-924016ebe3a2"
      },
      "source": [
        "idades[2]"
      ],
      "execution_count": 113,
      "outputs": [
        {
          "output_type": "execute_result",
          "data": {
            "text/plain": [
              "15"
            ]
          },
          "metadata": {
            "tags": []
          },
          "execution_count": 113
        }
      ]
    },
    {
      "cell_type": "code",
      "metadata": {
        "colab": {
          "base_uri": "https://localhost:8080/"
        },
        "id": "Z2SEUvv320mT",
        "outputId": "839afece-58bd-48a0-84b3-d71c604848fc"
      },
      "source": [
        "idades[1]"
      ],
      "execution_count": 114,
      "outputs": [
        {
          "output_type": "execute_result",
          "data": {
            "text/plain": [
              "22"
            ]
          },
          "metadata": {
            "tags": []
          },
          "execution_count": 114
        }
      ]
    },
    {
      "cell_type": "code",
      "metadata": {
        "colab": {
          "base_uri": "https://localhost:8080/"
        },
        "id": "hu4n4Tx-3jBv",
        "outputId": "1d2f02e2-2013-4d7c-de2a-f66ba4c5c575"
      },
      "source": [
        "idades[:]"
      ],
      "execution_count": 115,
      "outputs": [
        {
          "output_type": "execute_result",
          "data": {
            "text/plain": [
              "[18, 22, 15, 50]"
            ]
          },
          "metadata": {
            "tags": []
          },
          "execution_count": 115
        }
      ]
    },
    {
      "cell_type": "code",
      "metadata": {
        "colab": {
          "base_uri": "https://localhost:8080/"
        },
        "id": "1KC1_ZBj3oQx",
        "outputId": "5562e2e8-206f-4da1-af19-86276fae2986"
      },
      "source": [
        "idades[-2]"
      ],
      "execution_count": 116,
      "outputs": [
        {
          "output_type": "execute_result",
          "data": {
            "text/plain": [
              "15"
            ]
          },
          "metadata": {
            "tags": []
          },
          "execution_count": 116
        }
      ]
    },
    {
      "cell_type": "markdown",
      "metadata": {
        "id": "EOAey9Ph5KyD"
      },
      "source": [
        "## LAÇOS E LOOPS"
      ]
    },
    {
      "cell_type": "code",
      "metadata": {
        "colab": {
          "base_uri": "https://localhost:8080/"
        },
        "id": "-k27RjYo5Gox",
        "outputId": "6bbf679b-5f84-4bb6-ad6d-46b25f24d8ea"
      },
      "source": [
        "def verifica_se_dirigir_s_n(idade):\r\n",
        "  if idade>=18:\r\n",
        "    print(f'{idade} anos de idade, TEM permissão para dirigir')\r\n",
        "  else:\r\n",
        "    print(f'{idade} anos de idade, NÂO TEM permissão para dirigir')\r\n",
        "for idade in idades:\r\n",
        "  verifica_se_dirigir_s_n(idade)"
      ],
      "execution_count": 118,
      "outputs": [
        {
          "output_type": "stream",
          "text": [
            "18 anos de idade, TEM permissão para dirigir\n",
            "22 anos de idade, TEM permissão para dirigir\n",
            "15 anos de idade, NÂO TEM permissão para dirigir\n",
            "50 anos de idade, TEM permissão para dirigir\n"
          ],
          "name": "stdout"
        }
      ]
    },
    {
      "cell_type": "code",
      "metadata": {
        "colab": {
          "base_uri": "https://localhost:8080/"
        },
        "id": "OXHeH0eC4I06",
        "outputId": "6a2ec76f-2349-4cd5-f4a0-97d351995ad2"
      },
      "source": [
        "def verifica_se_dirigir_s_n(idades):\r\n",
        "  for idade in idades:\r\n",
        "    if idade>=18:\r\n",
        "      print(f'{idade} anos de idade, TEM permissão para dirigir')\r\n",
        "    else:\r\n",
        "      print(f'{idade} anos de idade, NÂO TEM permissão para dirigir')\r\n",
        "verifica_se_dirigir_s_n(idades)"
      ],
      "execution_count": 121,
      "outputs": [
        {
          "output_type": "stream",
          "text": [
            "18 anos de idade, TEM permissão para dirigir\n",
            "22 anos de idade, TEM permissão para dirigir\n",
            "15 anos de idade, NÂO TEM permissão para dirigir\n",
            "50 anos de idade, TEM permissão para dirigir\n"
          ],
          "name": "stdout"
        }
      ]
    },
    {
      "cell_type": "code",
      "metadata": {
        "id": "zCAN1CW96UhS"
      },
      "source": [
        ""
      ],
      "execution_count": null,
      "outputs": []
    }
  ]
}