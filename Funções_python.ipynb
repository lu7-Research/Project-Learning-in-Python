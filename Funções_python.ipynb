{
  "nbformat": 4,
  "nbformat_minor": 0,
  "metadata": {
    "colab": {
      "name": "Funções_python.ipynb",
      "provenance": [],
      "authorship_tag": "ABX9TyOaKCIx5ouGG74ckhQO43KZ",
      "include_colab_link": true
    },
    "kernelspec": {
      "name": "python3",
      "display_name": "Python 3"
    }
  },
  "cells": [
    {
      "cell_type": "markdown",
      "metadata": {
        "id": "view-in-github",
        "colab_type": "text"
      },
      "source": [
        "<a href=\"https://colab.research.google.com/github/lu7-Research/Project-Learning-in-Python/blob/main/Fun%C3%A7%C3%B5es_python.ipynb\" target=\"_parent\"><img src=\"https://colab.research.google.com/assets/colab-badge.svg\" alt=\"Open In Colab\"/></a>"
      ]
    },
    {
      "cell_type": "markdown",
      "metadata": {
        "id": "XWvmQTk7vCJZ"
      },
      "source": [
        "## Funções em Python"
      ]
    },
    {
      "cell_type": "code",
      "metadata": {
        "id": "4Eqv_NR1vLEw"
      },
      "source": [
        "#Definindo a função em python\r\n",
        "def equacao_reta(x):\r\n",
        "  y_x = 2*x + 1\r\n",
        "  return y_x"
      ],
      "execution_count": null,
      "outputs": []
    },
    {
      "cell_type": "code",
      "metadata": {
        "colab": {
          "base_uri": "https://localhost:8080/"
        },
        "id": "hvfheINrvfRt",
        "outputId": "f5317d1d-9e80-4b92-e59f-42a8e20f9f59"
      },
      "source": [
        "#chamando Função \r\n",
        "x=float(input(\"Entre com o valor a ser calculado paara y(x)= 2x + 1: \"))\r\n",
        "resultado=equacao_reta(x)\r\n",
        "print(\"O resultado encontrado é y = %.2d\" %resultado)"
      ],
      "execution_count": null,
      "outputs": [
        {
          "output_type": "stream",
          "text": [
            "Entre com o valor a ser calculado paara y(x)= 2x + 1: 1\n",
            "O resultado encontrado é y = 03\n"
          ],
          "name": "stdout"
        }
      ]
    },
    {
      "cell_type": "code",
      "metadata": {
        "id": "spf5YPa_xIA-"
      },
      "source": [
        "#imagine calcular os valores de y para uma lista de valores\r\n",
        "lista_x = [1,2,3,4,5,10,45,88,123,4]\r\n",
        "y_1 = 2*lista_x[0] + 1\r\n",
        "y_2 = 2*lista_x[1] + 1\r\n",
        "y_3 = 2*lista_x[2] + 1\r\n",
        "y_4 = 2*lista_x[3] + 1\r\n",
        "y_5 = 2*lista_x[4] + 1\r\n",
        "y_6 = 2*lista_x[5] + 1\r\n",
        "y_7 = 2*lista_x[6] + 1\r\n",
        "y_8 = 2*lista_x[7] + 1"
      ],
      "execution_count": null,
      "outputs": []
    },
    {
      "cell_type": "code",
      "metadata": {
        "id": "FNjYeQroyrDl"
      },
      "source": [
        "#Ultilizando Funções\r\n",
        "lista_y=[]\r\n",
        "for valor_x in lista_x:\r\n",
        "  lista_y.append(equacao_reta(valor_x))"
      ],
      "execution_count": null,
      "outputs": []
    },
    {
      "cell_type": "code",
      "metadata": {
        "colab": {
          "base_uri": "https://localhost:8080/"
        },
        "id": "BYMsYuj-zOLi",
        "outputId": "71ad544c-7b50-428d-8dd5-90854a310ce7"
      },
      "source": [
        "print(lista_y)"
      ],
      "execution_count": null,
      "outputs": [
        {
          "output_type": "stream",
          "text": [
            "[3, 5, 7, 9, 11, 21, 91, 177, 247, 9]\n"
          ],
          "name": "stdout"
        }
      ]
    },
    {
      "cell_type": "code",
      "metadata": {
        "colab": {
          "base_uri": "https://localhost:8080/"
        },
        "id": "IXjxmRsl5V-0",
        "outputId": "3a1d656f-1154-4f0d-b33a-9adab12b65eb"
      },
      "source": [
        "#Realizando o print\r\n",
        "for i in lista_y:\r\n",
        "  print(\"Valor de y é: \", i)"
      ],
      "execution_count": null,
      "outputs": [
        {
          "output_type": "stream",
          "text": [
            "Valor de y é:  3\n",
            "Valor de y é:  5\n",
            "Valor de y é:  7\n",
            "Valor de y é:  9\n",
            "Valor de y é:  11\n",
            "Valor de y é:  21\n",
            "Valor de y é:  91\n",
            "Valor de y é:  177\n",
            "Valor de y é:  247\n",
            "Valor de y é:  9\n"
          ],
          "name": "stdout"
        }
      ]
    },
    {
      "cell_type": "code",
      "metadata": {
        "colab": {
          "base_uri": "https://localhost:8080/"
        },
        "id": "RdKB4pr17VMQ",
        "outputId": "047cc772-dbfd-4acc-9f08-7f02d3cdbd79"
      },
      "source": [
        "#Realizando o plot de uma forma mais eficiente\r\n",
        "for valor_x, valor_y in zip(lista_x,lista_y):\r\n",
        "  print(\"Valor de y (%.2f): %1.2f\" %(valor_x,valor_y)) "
      ],
      "execution_count": null,
      "outputs": [
        {
          "output_type": "stream",
          "text": [
            "Valor de y (1.00): 3.00\n",
            "Valor de y (2.00): 5.00\n",
            "Valor de y (3.00): 7.00\n",
            "Valor de y (4.00): 9.00\n",
            "Valor de y (5.00): 11.00\n",
            "Valor de y (10.00): 21.00\n",
            "Valor de y (45.00): 91.00\n",
            "Valor de y (88.00): 177.00\n",
            "Valor de y (123.00): 247.00\n",
            "Valor de y (4.00): 9.00\n"
          ],
          "name": "stdout"
        }
      ]
    },
    {
      "cell_type": "code",
      "metadata": {
        "colab": {
          "base_uri": "https://localhost:8080/"
        },
        "id": "ZQpzMDr4CeDf",
        "outputId": "55775fad-61d4-47ae-f9f8-78a122417b4d"
      },
      "source": [
        "#Escreva um função que retorne o valor absoluto de um número \r\n",
        "def valor_absoluto(num):\r\n",
        "  \"\"\"Está função retornará o valor\r\n",
        "  absoluto de um número\"\"\"\r\n",
        "\r\n",
        "  if num >=0: \r\n",
        "    return num\r\n",
        "  else:\r\n",
        "    return -num\r\n",
        "\r\n",
        "print(valor_absoluto(20))\r\n",
        "\r\n",
        "print(valor_absoluto(-4.5))"
      ],
      "execution_count": null,
      "outputs": [
        {
          "output_type": "stream",
          "text": [
            "20\n",
            "4.5\n"
          ],
          "name": "stdout"
        }
      ]
    },
    {
      "cell_type": "markdown",
      "metadata": {
        "id": "LzwxwDJjDwYd"
      },
      "source": [
        "## Escopo de um código Python"
      ]
    },
    {
      "cell_type": "code",
      "metadata": {
        "colab": {
          "base_uri": "https://localhost:8080/"
        },
        "id": "OXsPCKwlD0Te",
        "outputId": "63ecef12-3cc2-409e-8f83-926e9994a069"
      },
      "source": [
        "#Seja uma função \r\n",
        "def minha_função(): #Não recebe argumento\r\n",
        "    variavel_interna = 300            #Variavel definida no escopo da função \r\n",
        "    print(variavel_interna)\r\n",
        "minha_função()"
      ],
      "execution_count": null,
      "outputs": [
        {
          "output_type": "stream",
          "text": [
            "300\n"
          ],
          "name": "stdout"
        }
      ]
    },
    {
      "cell_type": "code",
      "metadata": {
        "colab": {
          "base_uri": "https://localhost:8080/",
          "height": 128
        },
        "id": "5G6t_X02E0M6",
        "outputId": "ed65cbe8-51e5-4813-e635-f1425acf7eda"
      },
      "source": [
        "#Tentando acessar a variavel fora da função \r\n",
        " print(variavel_interna)"
      ],
      "execution_count": null,
      "outputs": [
        {
          "output_type": "error",
          "ename": "IndentationError",
          "evalue": "ignored",
          "traceback": [
            "\u001b[0;36m  File \u001b[0;32m\"<ipython-input-21-4b1cbd35d34a>\"\u001b[0;36m, line \u001b[0;32m2\u001b[0m\n\u001b[0;31m    print(variavel_interna)\u001b[0m\n\u001b[0m    ^\u001b[0m\n\u001b[0;31mIndentationError\u001b[0m\u001b[0;31m:\u001b[0m unexpected indent\n"
          ]
        }
      ]
    },
    {
      "cell_type": "markdown",
      "metadata": {
        "id": "YqJ0iF0jaAXq"
      },
      "source": [
        "## Python \"Stack\" (Pilha)"
      ]
    },
    {
      "cell_type": "code",
      "metadata": {
        "id": "HNOnpBmVE_5W"
      },
      "source": [
        "#Função que inverte o valor da string passada\r\n",
        "def inverte_string(valor_string):\r\n",
        "  resultado= \" \"\r\n",
        "  for caracter in valor_string:\r\n",
        "    resultado = caracter +resultado\r\n",
        "\r\n",
        "  return resultado"
      ],
      "execution_count": null,
      "outputs": []
    },
    {
      "cell_type": "code",
      "metadata": {
        "id": "C4hlpoucofjy",
        "colab": {
          "base_uri": "https://localhost:8080/"
        },
        "outputId": "249d8a81-043c-4e1f-e155-c84c9de06b0a"
      },
      "source": [
        "#Ultilizando a função definida \r\n",
        "\r\n",
        "string=input(\"Entre com alguma string: \")\r\n",
        "while string.strip() !=\"\":\r\n",
        "  print(\"O inverso de \" ,string, \"é\", inverte_string(string))\r\n",
        "  string=input(\"Entre com outra string ou pressione ENTER para sair: \")"
      ],
      "execution_count": null,
      "outputs": [
        {
          "output_type": "stream",
          "text": [
            "Entre com alguma string: Olá mundo, estou estudando Python, para me tornar o Engenheiro de Produção especialista em Data Science\n",
            "O inverso de  Olá mundo, estou estudando Python, para me tornar o Engenheiro de Produção especialista em Data Science é ecneicS ataD me atsilaicepse oãçudorP ed oriehnegnE o ranrot em arap ,nohtyP odnadutse uotse ,odnum álO \n",
            "Entre com outra string ou pressione ENTER para sair: \n"
          ],
          "name": "stdout"
        }
      ]
    },
    {
      "cell_type": "markdown",
      "metadata": {
        "id": "jjJ4eYUnEXPe"
      },
      "source": [
        "# Predicate Functions "
      ]
    },
    {
      "cell_type": "code",
      "metadata": {
        "id": "x8kqsAw2Ztb7"
      },
      "source": [
        "# Função que retorna verdadeiro ou falso - verifica se um número x é divisivel pelo número y\r\n",
        "def verifica_divisibilidade(x,y):\r\n",
        "  x_divisivel_y=False\r\n",
        "\r\n",
        "  if x % y ==0:\r\n",
        "    x_divisivel_y=True\r\n",
        "\r\n",
        "  return x_divisivel_y "
      ],
      "execution_count": null,
      "outputs": []
    },
    {
      "cell_type": "code",
      "metadata": {
        "colab": {
          "base_uri": "https://localhost:8080/"
        },
        "id": "htEC_pz3FZzS",
        "outputId": "04f442c4-e68c-4f58-941f-0c2e252a8ad3"
      },
      "source": [
        "x=int(input('Entre com o valor inteiro de x: '))\r\n",
        "y=int(input('Entre com o valor inteiro de y: '))\r\n",
        "\r\n",
        "if verifica_divisibilidade(x,y):\r\n",
        "  print(x, 'É divisivel por', y)\r\n",
        "else:\r\n",
        "  print(x, 'Não é divisivel por', y)\r\n"
      ],
      "execution_count": null,
      "outputs": [
        {
          "output_type": "stream",
          "text": [
            "Entre com o valor inteiro de x: 5\n",
            "Entre com o valor inteiro de y: 2\n",
            "5 Não é divisivel por 2\n"
          ],
          "name": "stdout"
        }
      ]
    },
    {
      "cell_type": "code",
      "metadata": {
        "colab": {
          "base_uri": "https://localhost:8080/"
        },
        "id": "5c7t7BTtGML3",
        "outputId": "4d502b60-be9c-4800-b9e1-8925a2f19819"
      },
      "source": [
        "# Versão reduzida da função \r\n",
        "def verifica_divisibilidade(x,y):\r\n",
        "  return x % y==0 \r\n",
        "\r\n",
        "x=int(input('Entre com o valor inteiro de x: '))\r\n",
        "y=int(input('Entre com o valor inteiro de y: '))\r\n",
        "\r\n",
        "if verifica_divisibilidade(x,y):\r\n",
        "  print(x, 'É divisivel por', y)\r\n",
        "else:\r\n",
        "  print(x, 'Não é divisivel por', y)"
      ],
      "execution_count": null,
      "outputs": [
        {
          "output_type": "stream",
          "text": [
            "Entre com o valor inteiro de x: 25\n",
            "Entre com o valor inteiro de y: 2\n",
            "25 Não é divisivel por 2\n"
          ],
          "name": "stdout"
        }
      ]
    },
    {
      "cell_type": "markdown",
      "metadata": {
        "id": "PcVPcw7mG7ak"
      },
      "source": [
        "## Tipo de Desenvolvimento de Código"
      ]
    },
    {
      "cell_type": "code",
      "metadata": {
        "colab": {
          "base_uri": "https://localhost:8080/"
        },
        "id": "fLpC4l08G13I",
        "outputId": "20c7984d-bf5d-4519-ecbb-ee8b281830dd"
      },
      "source": [
        "#Construa um programa que consiga encontrar, através de uma lista de valores,\r\n",
        "#Quais são os valores divisiveis desta lista \r\n",
        "s= input('Entre com uma sequência de valores inteiros separados por espaçõ: ')\r\n",
        "lista_valores = []\r\n",
        "for x in s.split():\r\n",
        "  lista_valores.append(int(x))\r\n",
        "print(lista_valores)"
      ],
      "execution_count": null,
      "outputs": [
        {
          "output_type": "stream",
          "text": [
            "Entre com uma sequência de valores inteiros separados por espaçõ: 1 2 3 4 5 6 7 8 9 10\n",
            "[1, 2, 3, 4, 5, 6, 7, 8, 9, 10]\n"
          ],
          "name": "stdout"
        }
      ]
    },
    {
      "cell_type": "code",
      "metadata": {
        "id": "0l0QtM-1kLmP"
      },
      "source": [
        "#Construindo o programa via bottom-up\r\n",
        "def verifica_divisibilidade(x,y):\r\n",
        "  return int(y) % int(x)==0"
      ],
      "execution_count": null,
      "outputs": []
    },
    {
      "cell_type": "code",
      "metadata": {
        "id": "_SgQsvEClt3E"
      },
      "source": [
        "#Em um modelo de botton-up\r\n",
        "#Definindo uma função que retorna a lista com os valores da lista que são divisores de x\r\n",
        "def elementos_divisiveis(x,lista):\r\n",
        "  resultado=[]\r\n",
        "  \r\n",
        "  for elemento in lista:\r\n",
        "    if verifica_divisibilidade(elemento,x):\r\n",
        "      resultado.append(elemento)\r\n",
        "  return resultado"
      ],
      "execution_count": null,
      "outputs": []
    },
    {
      "cell_type": "code",
      "metadata": {
        "id": "JeIVk1ozkkZV"
      },
      "source": [
        "#Função que recebe uma lista de valores e retorna quem são os divisores  \r\n",
        "def divisores_em_lista(lista):\r\n",
        "  for elemento in lista:\r\n",
        "    print(elemento, 'É divisivel por', end=' ')\r\n",
        "    elementos=elementos_divisiveis(elemento,lista)\r\n",
        "    for f in elementos:\r\n",
        "      print(f, end=' ')\r\n",
        "    print()"
      ],
      "execution_count": null,
      "outputs": []
    },
    {
      "cell_type": "code",
      "metadata": {
        "colab": {
          "base_uri": "https://localhost:8080/"
        },
        "id": "CNzQlsvDmZLB",
        "outputId": "8f640182-5c16-4a4a-ed6b-aff958cf6516"
      },
      "source": [
        "s= input('Entre com uma sequência de valores separados por espaço: ')\r\n",
        "lista_valores=[]\r\n",
        "for x in s.split():\r\n",
        "  lista_valores.append(int(x))\r\n",
        "divisores_em_lista(lista_valores)"
      ],
      "execution_count": null,
      "outputs": [
        {
          "output_type": "stream",
          "text": [
            "Entre com uma sequência de valores separados por espaço: 1 2 3 4 5 6 7 8 9 10 11 12 13 14 15 16 17\n",
            "1 É divisivel por 1 \n",
            "2 É divisivel por 1 2 \n",
            "3 É divisivel por 1 3 \n",
            "4 É divisivel por 1 2 4 \n",
            "5 É divisivel por 1 5 \n",
            "6 É divisivel por 1 2 3 6 \n",
            "7 É divisivel por 1 7 \n",
            "8 É divisivel por 1 2 4 8 \n",
            "9 É divisivel por 1 3 9 \n",
            "10 É divisivel por 1 2 5 10 \n",
            "11 É divisivel por 1 11 \n",
            "12 É divisivel por 1 2 3 4 6 12 \n",
            "13 É divisivel por 1 13 \n",
            "14 É divisivel por 1 2 7 14 \n",
            "15 É divisivel por 1 3 5 15 \n",
            "16 É divisivel por 1 2 4 8 16 \n",
            "17 É divisivel por 1 17 \n"
          ],
          "name": "stdout"
        }
      ]
    },
    {
      "cell_type": "markdown",
      "metadata": {
        "id": "8SeTRTXoqPXz"
      },
      "source": [
        "## Funções Recursivas "
      ]
    },
    {
      "cell_type": "code",
      "metadata": {
        "colab": {
          "base_uri": "https://localhost:8080/"
        },
        "id": "8xVuKe8xz-fV",
        "outputId": "f2fc73ce-e12a-4b5a-c41f-9ee27705129e"
      },
      "source": [
        "# Função fotorial - (n! = (n-1)*(n-2)*,----,*1) - \r\n",
        "def fatorial(n):\r\n",
        "  if n==0:\r\n",
        "    return 1 \r\n",
        "  return n*fatorial(n-1)\r\n",
        "print(fatorial(10))"
      ],
      "execution_count": null,
      "outputs": [
        {
          "output_type": "stream",
          "text": [
            "3628800\n"
          ],
          "name": "stdout"
        }
      ]
    },
    {
      "cell_type": "markdown",
      "metadata": {
        "id": "B4jANRbV0rJw"
      },
      "source": [
        "## Função Main\r\n",
        "Utilizada afim de limpar o código."
      ]
    },
    {
      "cell_type": "code",
      "metadata": {
        "id": "BMC14SqI0tV9",
        "colab": {
          "base_uri": "https://localhost:8080/"
        },
        "outputId": "cd8d6f9d-d0bf-44cd-ea6d-21fb38356ad7"
      },
      "source": [
        "def main():\r\n",
        "  print('Olá mundo! ')\r\n",
        "\r\n",
        "if __name__=='__main__':\r\n",
        "  main()"
      ],
      "execution_count": 1,
      "outputs": [
        {
          "output_type": "stream",
          "text": [
            "Olá mundo! \n"
          ],
          "name": "stdout"
        }
      ]
    },
    {
      "cell_type": "code",
      "metadata": {
        "colab": {
          "base_uri": "https://localhost:8080/"
        },
        "id": "dxMiaf_oDW4s",
        "outputId": "cf97d0a0-7576-46d6-b7f0-0308187f7f2c"
      },
      "source": [
        "#Usando função main() para performar o cd - fonte: realpython.com\r\n",
        "from time import sleep\r\n",
        "\r\n",
        "def process_data(data):\r\n",
        "  print('Iniciando o processamento...')\r\n",
        "  modified_data = data + 'O dado foi modificado'\r\n",
        "  sleep(3)\r\n",
        "  print('Processamento finalizado.')\r\n",
        "  return modified_data\r\n",
        "\r\n",
        "def read_data_from_web():\r\n",
        "  print('Lendo dados da web.')\r\n",
        "  data = 'Dados da web lidos.'\r\n",
        "  return data\r\n",
        "\r\n",
        "def write_data_to_database(data):\r\n",
        "  print('Armazenamento dados em database.')\r\n",
        "  print(data)\r\n",
        "\r\n",
        "def main():\r\n",
        "  data = read_data_from_web()\r\n",
        "  modified_data = process_data(data)\r\n",
        "  write_data_to_database(modified_data)\r\n",
        "\r\n",
        "if __name__ == '__main__':\r\n",
        "  main()"
      ],
      "execution_count": 5,
      "outputs": [
        {
          "output_type": "stream",
          "text": [
            "Lendo dados da web.\n",
            "Iniciando o processamento...\n",
            "Processamento finalizado.\n",
            "Armazenamento dados em database.\n",
            "Dados da web lidos.O dado foi modificado\n"
          ],
          "name": "stdout"
        }
      ]
    },
    {
      "cell_type": "markdown",
      "metadata": {
        "id": "qjlebI1HFmTZ"
      },
      "source": [
        "## Arguments em Python"
      ]
    },
    {
      "cell_type": "markdown",
      "metadata": {
        "id": "UEOTmRh0IV2o"
      },
      "source": [
        "## Default"
      ]
    },
    {
      "cell_type": "code",
      "metadata": {
        "colab": {
          "base_uri": "https://localhost:8080/"
        },
        "id": "FaIlJucHFk4_",
        "outputId": "436f937f-68f3-47d2-a8b4-bf953c3a16ac"
      },
      "source": [
        "#exemplo de função \r\n",
        "def concatena_nome_mensagem(nome , mensagem='Bom tarde!'): #função com 2 parâmetros\r\n",
        "\r\n",
        "    print('Olá', nome + '! ' + mensagem)\r\n",
        "  #chamando a função corretamente\r\n",
        "concatena_nome_mensagem('Maria', 'Boa tarde')"
      ],
      "execution_count": 16,
      "outputs": [
        {
          "output_type": "stream",
          "text": [
            "Olá Maria! Boa tarde\n"
          ],
          "name": "stdout"
        }
      ]
    },
    {
      "cell_type": "code",
      "metadata": {
        "colab": {
          "base_uri": "https://localhost:8080/"
        },
        "id": "HMwcmVtXHPRz",
        "outputId": "7414e8a4-c016-44fa-d1f3-bb99c72cbd11"
      },
      "source": [
        "#Chamando a função apenas com 1 parâmetros\r\n",
        "concatena_nome_mensagem('Maria')"
      ],
      "execution_count": 17,
      "outputs": [
        {
          "output_type": "stream",
          "text": [
            "Olá Maria! Bom tarde!\n"
          ],
          "name": "stdout"
        }
      ]
    },
    {
      "cell_type": "markdown",
      "metadata": {
        "id": "zYyr6KvpIkan"
      },
      "source": [
        "## Via posição dos argumentos"
      ]
    },
    {
      "cell_type": "code",
      "metadata": {
        "colab": {
          "base_uri": "https://localhost:8080/"
        },
        "id": "iFbS0NyCIkG8",
        "outputId": "c4bfa7d8-6caa-40cb-b94b-b9b594fa3c30"
      },
      "source": [
        "#Exemplo da função \r\n",
        "def concatena_nome_mensagem(nome , mensagem): #função com 2 parâmetros\r\n",
        "\r\n",
        "    print('Olá', nome + '! ' + mensagem)\r\n",
        "  #chamando a função corretamente\r\n",
        "concatena_nome_mensagem('Maria', 'Boa tarde')\r\n"
      ],
      "execution_count": 20,
      "outputs": [
        {
          "output_type": "stream",
          "text": [
            "Olá Maria! Boa tarde\n"
          ],
          "name": "stdout"
        }
      ]
    },
    {
      "cell_type": "code",
      "metadata": {
        "colab": {
          "base_uri": "https://localhost:8080/"
        },
        "id": "z0zsdazEHapv",
        "outputId": "a878e75d-d978-4e8f-d00e-c0cddda28a1f"
      },
      "source": [
        "#Chamando a função apenas com 1 parâmetros\r\n",
        "concatena_nome_mensagem('Bom dia','Maria')"
      ],
      "execution_count": 22,
      "outputs": [
        {
          "output_type": "stream",
          "text": [
            "Olá Bom dia! Maria\n"
          ],
          "name": "stdout"
        }
      ]
    },
    {
      "cell_type": "markdown",
      "metadata": {
        "id": "4ZjPWJlcJFOS"
      },
      "source": [
        "## Argumentos arbitrários"
      ]
    },
    {
      "cell_type": "code",
      "metadata": {
        "colab": {
          "base_uri": "https://localhost:8080/"
        },
        "id": "syEXl8rxI9vs",
        "outputId": "21ff7fa9-9544-497b-cba5-5958f750093a"
      },
      "source": [
        "#Exemplo da função \r\n",
        "def print_nomes_dos_usarios(*nomes): #função n parametros\r\n",
        "    \r\n",
        "    for nome in nomes:\r\n",
        "      print('Olá, ' +nome+'! Bom dia!')\r\n",
        "\r\n",
        "#chamando a função corretamente\r\n",
        "print_nomes_dos_usarios('Maria','Antonio','José','Túlio')"
      ],
      "execution_count": 24,
      "outputs": [
        {
          "output_type": "stream",
          "text": [
            "Olá, Maria! Bom dia!\n",
            "Olá, Antonio! Bom dia!\n",
            "Olá, José! Bom dia!\n",
            "Olá, Túlio! Bom dia!\n"
          ],
          "name": "stdout"
        }
      ]
    },
    {
      "cell_type": "markdown",
      "metadata": {
        "id": "9fsOStn1LBe-"
      },
      "source": [
        "**kwargs. Como a abreviação sugere, kwargs significa keyword arguments (argumentos de palavras chave). Ele permite passar um dicionário com inúmeras keys para a função. Como vimos acima no output da função usando ** podemos notar que o tipo do argumento é passado como dicionário com chaves e valores"
      ]
    },
    {
      "cell_type": "code",
      "metadata": {
        "colab": {
          "base_uri": "https://localhost:8080/"
        },
        "id": "okMNgXNvJ7gP",
        "outputId": "4087536e-d6ba-495c-f474-1bc38d4669ec"
      },
      "source": [
        "#Exemplo de função \r\n",
        "def minha_funcao(**kwarges):\r\n",
        "  print(str(kwarges))\r\n",
        "minha_funcao(a=12, b='abc')\r\n",
        "{'a' : 12, 'b' :'abc'}"
      ],
      "execution_count": 25,
      "outputs": [
        {
          "output_type": "stream",
          "text": [
            "{'a': 12, 'b': 'abc'}\n"
          ],
          "name": "stdout"
        },
        {
          "output_type": "execute_result",
          "data": {
            "text/plain": [
              "{'a': 12, 'b': 'abc'}"
            ]
          },
          "metadata": {
            "tags": []
          },
          "execution_count": 25
        }
      ]
    },
    {
      "cell_type": "code",
      "metadata": {
        "id": "Le9HhakCK35v"
      },
      "source": [
        "#Exemplo de função \r\n",
        "def somatorio(a, b):\r\n",
        "  print('Somatório é: ',a+b)\r\n",
        "somatorio(21,5)"
      ],
      "execution_count": null,
      "outputs": []
    },
    {
      "cell_type": "code",
      "metadata": {
        "colab": {
          "base_uri": "https://localhost:8080/"
        },
        "id": "TVdIAbpvLhnW",
        "outputId": "2f8b8d8c-8ee6-4e82-e90a-fb078dfc81d8"
      },
      "source": [
        "somatorio(21,5,6)"
      ],
      "execution_count": 43,
      "outputs": [
        {
          "output_type": "stream",
          "text": [
            "Somátorio é :  32\n"
          ],
          "name": "stdout"
        }
      ]
    },
    {
      "cell_type": "code",
      "metadata": {
        "colab": {
          "base_uri": "https://localhost:8080/"
        },
        "id": "xGV4i8QmLv0O",
        "outputId": "e942f30e-40cc-42ed-8699-5b7ea0df25d8"
      },
      "source": [
        "def somatorio(*args):\r\n",
        "  total = 0;\r\n",
        "  for arg in args:\r\n",
        "    total +- arg\r\n",
        "  print('Somátorio é : ',total)\r\n",
        "somatori(21,5,6)"
      ],
      "execution_count": 50,
      "outputs": [
        {
          "output_type": "stream",
          "text": [
            "Somátorio é :  32\n"
          ],
          "name": "stdout"
        }
      ]
    },
    {
      "cell_type": "markdown",
      "metadata": {
        "id": "7S0XLfirOhU4"
      },
      "source": [
        "## Programação Estruturada x Orientada a Objetos\r\n"
      ]
    },
    {
      "cell_type": "code",
      "metadata": {
        "id": "WX-81hxCORxf"
      },
      "source": [
        ""
      ],
      "execution_count": null,
      "outputs": []
    }
  ]
}