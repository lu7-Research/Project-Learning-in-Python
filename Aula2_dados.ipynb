{
  "nbformat": 4,
  "nbformat_minor": 0,
  "metadata": {
    "colab": {
      "name": "Aula2_dados.ipynb",
      "provenance": [],
      "authorship_tag": "ABX9TyM9bwNB7lYgbmLxzKb4DGa8",
      "include_colab_link": true
    },
    "kernelspec": {
      "name": "python3",
      "display_name": "Python 3"
    }
  },
  "cells": [
    {
      "cell_type": "markdown",
      "metadata": {
        "id": "view-in-github",
        "colab_type": "text"
      },
      "source": [
        "<a href=\"https://colab.research.google.com/github/lu7-Research/Project-Learning-in-Python/blob/main/Aula2_dados.ipynb\" target=\"_parent\"><img src=\"https://colab.research.google.com/assets/colab-badge.svg\" alt=\"Open In Colab\"/></a>"
      ]
    },
    {
      "cell_type": "code",
      "metadata": {
        "id": "sledHqDkoezL"
      },
      "source": [
        "#Criando uma lista em pytho"
      ],
      "execution_count": 56,
      "outputs": []
    },
    {
      "cell_type": "markdown",
      "metadata": {
        "id": "Qyk5szI1ofyp"
      },
      "source": [
        "Criando uma Lista em Python"
      ]
    },
    {
      "cell_type": "code",
      "metadata": {
        "colab": {
          "base_uri": "https://localhost:8080/"
        },
        "id": "RLQrF6XOovp8",
        "outputId": "7855daec-815f-40be-81e7-d7f153f8008b"
      },
      "source": [
        "#Criando uma Lista em Python\n",
        "lista = []\n",
        "print(\"Lista vazia: \")\n",
        "print(lista)\n",
        "print(type(lista))"
      ],
      "execution_count": null,
      "outputs": [
        {
          "output_type": "stream",
          "text": [
            "Lista vazia: \n",
            "[]\n",
            "<class 'list'>\n"
          ],
          "name": "stdout"
        }
      ]
    },
    {
      "cell_type": "code",
      "metadata": {
        "colab": {
          "base_uri": "https://localhost:8080/"
        },
        "id": "VO6XRQBvpT5z",
        "outputId": "fc572cea-c6f7-41cd-98c7-0d8626bd6fe3"
      },
      "source": [
        "#Lista com uma string\n",
        "lista =['IGTI'] \n",
        "print(\"Lista de uma string: \")\n",
        "print(lista)"
      ],
      "execution_count": null,
      "outputs": [
        {
          "output_type": "stream",
          "text": [
            "Lista de uma string: \n",
            "['IGTI']\n"
          ],
          "name": "stdout"
        }
      ]
    },
    {
      "cell_type": "code",
      "metadata": {
        "colab": {
          "base_uri": "https://localhost:8080/"
        },
        "id": "EBp6u4Zapqfy",
        "outputId": "11eca0b5-eaac-471f-ca39-348b24f4eea0"
      },
      "source": [
        "#Lista com vários valores\n",
        "lista = [['IGTI', 'MBA'], ['PYTHON']]\n",
        "print(\"Lista com várias dimensões: \")\n",
        "print(lista)"
      ],
      "execution_count": null,
      "outputs": [
        {
          "output_type": "stream",
          "text": [
            "Lista com várias dimensões: \n",
            "[['IGTI', 'MBA'], ['PYTHON']]\n"
          ],
          "name": "stdout"
        }
      ]
    },
    {
      "cell_type": "code",
      "metadata": {
        "colab": {
          "base_uri": "https://localhost:8080/"
        },
        "id": "JbR7M0LvseHq",
        "outputId": "cef7a0da-0164-470f-db12-d0481545ec7e"
      },
      "source": [
        "#Criando listas com tipos diferentes de dados\n",
        "lista = [['IGTI', 'MBA'], 123, 'PYTHON']\n",
        "print(\"Lista com várias dimensões e valores: \")\n",
        "print(lista)"
      ],
      "execution_count": null,
      "outputs": [
        {
          "output_type": "stream",
          "text": [
            "Lista com várias dimensões e valores: \n",
            "[['IGTI', 'MBA'], 123, 'PYTHON']\n"
          ],
          "name": "stdout"
        }
      ]
    },
    {
      "cell_type": "markdown",
      "metadata": {
        "id": "r3lP-I3jtPGb"
      },
      "source": [
        "Adicionando elementos em uma lista "
      ]
    },
    {
      "cell_type": "code",
      "metadata": {
        "id": "ElyXIitotUxB"
      },
      "source": [
        "#1. Adicionar elemento de cada vez\n",
        "#2. Adicionar ao final da lista\n"
      ],
      "execution_count": null,
      "outputs": []
    },
    {
      "cell_type": "code",
      "metadata": {
        "colab": {
          "base_uri": "https://localhost:8080/"
        },
        "id": "mpHsQlxAuIg8",
        "outputId": "1c1f5ba8-3575-4b7d-e929-583a60e5a406"
      },
      "source": [
        "#Adicionando elemento com append\n",
        "lista.append(5)\n",
        "print('Lista numérica: ', lista) "
      ],
      "execution_count": null,
      "outputs": [
        {
          "output_type": "stream",
          "text": [
            "Lista numérica:  [['IGTI', 'MBA'], 123, 'PYTHON', 5]\n"
          ],
          "name": "stdout"
        }
      ]
    },
    {
      "cell_type": "code",
      "metadata": {
        "colab": {
          "base_uri": "https://localhost:8080/"
        },
        "id": "Aho-KOIUxdVt",
        "outputId": "5a4ae7b0-08db-4d32-af29-ab9fcbf77463"
      },
      "source": [
        "#Adicionando elemento append\n",
        "lista.append('IGTI')\n",
        "print('Lista numérica: ', lista)"
      ],
      "execution_count": null,
      "outputs": [
        {
          "output_type": "stream",
          "text": [
            "Lista numérica:  [['IGTI', 'MBA'], 123, 'PYTHON', 5, 'IGTI']\n"
          ],
          "name": "stdout"
        }
      ]
    },
    {
      "cell_type": "markdown",
      "metadata": {
        "id": "2WjfxXeBx30U"
      },
      "source": [
        "Adicionando elemento com insert()"
      ]
    },
    {
      "cell_type": "code",
      "metadata": {
        "colab": {
          "base_uri": "https://localhost:8080/"
        },
        "id": "40T7QAOxx_sk",
        "outputId": "dfd23317-7deb-48da-a01a-562177c3f995"
      },
      "source": [
        "#Cria lista vazia \n",
        "lista = []\n",
        "print(\"Lista vazia: \")\n",
        "print(lista)"
      ],
      "execution_count": null,
      "outputs": [
        {
          "output_type": "stream",
          "text": [
            "Lista vazia: \n",
            "[]\n"
          ],
          "name": "stdout"
        }
      ]
    },
    {
      "cell_type": "code",
      "metadata": {
        "colab": {
          "base_uri": "https://localhost:8080/"
        },
        "id": "YVG6IgzJycaS",
        "outputId": "18c5d9d8-a493-43da-c4d6-bff8a3d2ff7e"
      },
      "source": [
        "#Adiciona elementos para a lista com append\n",
        "lista.append('Azul')\n",
        "lista.append('Vende')\n",
        "lista.append('Vermelho')\n",
        "lista.append('Amarelo')\n",
        "print(\"Lista após adicionar as cores: \")\n",
        "print(lista)"
      ],
      "execution_count": null,
      "outputs": [
        {
          "output_type": "stream",
          "text": [
            "Lista após adicionar as cores: \n",
            "['Azul', 'Vende', 'Vermelho', 'Amarelo']\n"
          ],
          "name": "stdout"
        }
      ]
    },
    {
      "cell_type": "code",
      "metadata": {
        "colab": {
          "base_uri": "https://localhost:8080/"
        },
        "id": "t8vXa5vSzFZ7",
        "outputId": "89ded7b8-d170-4af3-80d5-914263b4d86b"
      },
      "source": [
        "#adicionando elemtento em posição especifica\n",
        "lista.insert(2, 'Preto')\n",
        "lista.insert(0 , 'Rosa')\n",
        "print(\"Lista após adicionar elementos em uma posição especifica: \")\n",
        "print(lista)"
      ],
      "execution_count": null,
      "outputs": [
        {
          "output_type": "stream",
          "text": [
            "Lista após adicionar elementos em uma posição especifica: \n",
            "['Rosa', 'Azul', 'Vende', 'Preto', 'Vermelho', 'Amarelo']\n"
          ],
          "name": "stdout"
        }
      ]
    },
    {
      "cell_type": "markdown",
      "metadata": {
        "id": "CyqPE-tUzyxa"
      },
      "source": [
        "Adicionando elementos com método extend()\n",
        "  - Adiciona vários elementos de uma vez (diferente do append())\n",
        "  - Indice deve ser inteiro\n",
        "  - Lista aninhadas devem ser acessadas de indice aninhados "
      ]
    },
    {
      "cell_type": "code",
      "metadata": {
        "colab": {
          "base_uri": "https://localhost:8080/"
        },
        "id": "T5Rxe_Pu0NHL",
        "outputId": "d0195b3d-09eb-4434-dc19-6378074328a2"
      },
      "source": [
        "#Criando uma lista com multiplos valores\n",
        "lista = [\"Azul\", \"Verde\", \"Vermelho\", \"Amarelo\"]\n",
        "\n",
        "#Acessando um elemento de lista\n",
        "print(\"Acessando elementos de lista\")\n",
        "print(lista[0])\n",
        "print(lista[2])"
      ],
      "execution_count": null,
      "outputs": [
        {
          "output_type": "stream",
          "text": [
            "Acessando elementos de lista\n",
            "Azul\n",
            "Vermelho\n"
          ],
          "name": "stdout"
        }
      ]
    },
    {
      "cell_type": "code",
      "metadata": {
        "colab": {
          "base_uri": "https://localhost:8080/"
        },
        "id": "gmDKX2L01gJn",
        "outputId": "2dd5bcd8-a72f-45d2-964d-4800415d1e17"
      },
      "source": [
        "#Acessando elementos no \"Sentido contrário\"\n",
        "print(\"Acessando elementos no sentido contrário: \")\n",
        "\n",
        "#Ùltimo elemento da lista\n",
        "print(lista[-1])\n",
        "\n",
        "#Penúltimo elemento da lista\n",
        "print(lista[-2])\n"
      ],
      "execution_count": null,
      "outputs": [
        {
          "output_type": "stream",
          "text": [
            "Acessando elementos no sentido contrário: \n",
            "Amarelo\n",
            "Vermelho\n"
          ],
          "name": "stdout"
        }
      ]
    },
    {
      "cell_type": "code",
      "metadata": {
        "colab": {
          "base_uri": "https://localhost:8080/"
        },
        "id": "x4pKuUKT2v1-",
        "outputId": "6218d5af-847b-4276-f87c-ac70421f4f61"
      },
      "source": [
        "#Acessando valores em listas aninhadas\n",
        "#Criando uma lista aninhada \n",
        "lista = [\"Azul\", \"Verde\", \"Vermelho\", \"Amarelo\",[100,200,300,400]]\n",
        "\n",
        "#Acessando o elemento 200 da lista\n",
        "print(\"Acessando o elemento na lista aninhada\")\n",
        "print(lista[4][1])\n",
        "\n"
      ],
      "execution_count": 57,
      "outputs": [
        {
          "output_type": "stream",
          "text": [
            "Acessando o elemento na lista aninhada\n",
            "200\n"
          ],
          "name": "stdout"
        }
      ]
    },
    {
      "cell_type": "code",
      "metadata": {
        "colab": {
          "base_uri": "https://localhost:8080/"
        },
        "id": "kq4nWz5J32KS",
        "outputId": "62e01fa3-f71f-45fa-cd6b-4cc26c59f60c"
      },
      "source": [
        "#Criando uma lista com alguns elementos \n",
        "lista = [(1, 2, 3, 4, 5, 6, \n",
        "         7, 8, 9, 10, 11, 12,\n",
        "         'Azul', 'Verde', 35, 'Amarelo')]\n",
        "print(\"Lista inicial: \")\n",
        "print(lista)"
      ],
      "execution_count": null,
      "outputs": [
        {
          "output_type": "stream",
          "text": [
            "Lista inicial: \n",
            "[(1, 2, 3, 4, 5, 6, 7, 8, 9, 10, 11, 12, 'Azul', 'Verde', 35, 'Amarelo')]\n"
          ],
          "name": "stdout"
        }
      ]
    },
    {
      "cell_type": "code",
      "metadata": {
        "colab": {
          "base_uri": "https://localhost:8080/"
        },
        "id": "xidq1kyR73Jf",
        "outputId": "54e0c633-cfe2-4877-bbb1-158b4aa1b2fa"
      },
      "source": [
        "#Removendo elementos ultilizando \"remove\"\n",
        "#lista.remove(5)\n",
        "lista.remove('Verde')\n",
        "print(\"Lista após remover os elementos: \")\n",
        "print(lista)"
      ],
      "execution_count": 59,
      "outputs": [
        {
          "output_type": "stream",
          "text": [
            "Lista após remover os elementos: \n",
            "['Azul', 'Vermelho', 'Amarelo', [100, 200, 300, 400]]\n"
          ],
          "name": "stdout"
        }
      ]
    }
  ]
}