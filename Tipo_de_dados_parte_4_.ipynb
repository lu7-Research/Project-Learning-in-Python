{
  "nbformat": 4,
  "nbformat_minor": 0,
  "metadata": {
    "colab": {
      "name": "Tipo_de_dados_parte_4 .ipynb",
      "provenance": [],
      "authorship_tag": "ABX9TyPy2phZVhUwce/N7iqOd7Yk",
      "include_colab_link": true
    },
    "kernelspec": {
      "name": "python3",
      "display_name": "Python 3"
    }
  },
  "cells": [
    {
      "cell_type": "markdown",
      "metadata": {
        "id": "view-in-github",
        "colab_type": "text"
      },
      "source": [
        "<a href=\"https://colab.research.google.com/github/lu7-Research/Project-Learning-in-Python/blob/main/Tipo_de_dados_parte_4_.ipynb\" target=\"_parent\"><img src=\"https://colab.research.google.com/assets/colab-badge.svg\" alt=\"Open In Colab\"/></a>"
      ]
    },
    {
      "cell_type": "markdown",
      "metadata": {
        "id": "n_cFKsGLKyab"
      },
      "source": [
        "# **Tipo de dados - Tuplas**"
      ]
    },
    {
      "cell_type": "markdown",
      "metadata": {
        "id": "e8tX2zxpMVwa"
      },
      "source": [
        "Tupla é uma Lista imutável. ... Uma Tupla é definida da mesma forma que uma lista, o que as diferencias, são os caracteres que as delimitam. Uma Lista, tem seus elementos delimitados por colchetes, enquanto que a Tupla, tem seus elementos delimitados por parêntesis"
      ]
    },
    {
      "cell_type": "code",
      "metadata": {
        "colab": {
          "base_uri": "https://localhost:8080/"
        },
        "id": "kfvQgTlWK63I",
        "outputId": "f4c57467-3de6-4644-ac17-3a80506e76b5"
      },
      "source": [
        "#criando tupla vazia \n",
        "tupla_1 = ()\n",
        "print (\"Tupla_vazia: \")\n",
        "print (tupla_1)"
      ],
      "execution_count": null,
      "outputs": [
        {
          "output_type": "stream",
          "text": [
            "Tupla_vazia: \n",
            "()\n"
          ],
          "name": "stdout"
        }
      ]
    },
    {
      "cell_type": "code",
      "metadata": {
        "colab": {
          "base_uri": "https://localhost:8080/"
        },
        "id": "y_YXJj6cLZ_D",
        "outputId": "daf53ef2-f51b-4fd3-fac6-fd53962237d2"
      },
      "source": [
        "#Criando uma tuple com string\n",
        "tupla_1 = ('IGTI', 'PYTHON')\n",
        "print (\"Tupla ultilizando string: \")\n",
        "print(tupla_1)"
      ],
      "execution_count": null,
      "outputs": [
        {
          "output_type": "stream",
          "text": [
            "Tupla ultilizando string: \n",
            "('IGTI', 'PYTHON')\n"
          ],
          "name": "stdout"
        }
      ]
    },
    {
      "cell_type": "markdown",
      "metadata": {
        "id": "J4T1ASPHMTfX"
      },
      "source": [
        ""
      ]
    },
    {
      "cell_type": "code",
      "metadata": {
        "colab": {
          "base_uri": "https://localhost:8080/"
        },
        "id": "u3FhUjBWNBjm",
        "outputId": "1bb37240-93f2-4db6-8269-d5d16cc71668"
      },
      "source": [
        "#Criando uma tuple através de uma lista\n",
        "lista_1 = [1, 2, 3, 4, 5, 6,]\n",
        "print(type(lista_1))\n",
        "print(\"Tupla através de uma lista: \")\n",
        "print(tuple(lista_1))\n",
        "print(type(tuple(lista_1)))"
      ],
      "execution_count": 5,
      "outputs": [
        {
          "output_type": "stream",
          "text": [
            "<class 'list'>\n",
            "Tupla através de uma lista: \n",
            "(1, 2, 3, 4, 5, 6)\n",
            "<class 'tuple'>\n"
          ],
          "name": "stdout"
        }
      ]
    },
    {
      "cell_type": "code",
      "metadata": {
        "colab": {
          "base_uri": "https://localhost:8080/"
        },
        "id": "cdfZfdYoNmtP",
        "outputId": "895a595d-a946-45fa-da4e-9fdcfd67219b"
      },
      "source": [
        "#Criando uma tupla através da palavra tuple()\n",
        "tupla_1 = tuple('IGIT')\n",
        "print(\"Tupla criada através da função tuple(): \") \n",
        "print(tupla_1)"
      ],
      "execution_count": 10,
      "outputs": [
        {
          "output_type": "stream",
          "text": [
            "Tupla criada através da função tuple(): \n",
            "('I', 'G', 'I', 'T')\n"
          ],
          "name": "stdout"
        }
      ]
    },
    {
      "cell_type": "markdown",
      "metadata": {
        "id": "1RoN6ah4PsPS"
      },
      "source": [
        "Um lista em uma outra lista é dita aninhada (nested) e a lista mais interna é chamada frequentemente de sublista (sublist)."
      ]
    },
    {
      "cell_type": "code",
      "metadata": {
        "colab": {
          "base_uri": "https://localhost:8080/"
        },
        "id": "_7VRDAEhPe3Z",
        "outputId": "dbd5442b-10c4-48be-fad8-e7c0e8d55a01"
      },
      "source": [
        "#Criando tuplas aninhadas \n",
        "tupla_1 = (0, 1, 2, 3)\n",
        "tupla_2 = ('python', 'IGIT')\n",
        "tupla_3 = (tupla_1, tupla_2)\n",
        "print(\"Tuplas aninhadas: \")\n",
        "print(tupla_3)"
      ],
      "execution_count": 11,
      "outputs": [
        {
          "output_type": "stream",
          "text": [
            "Tuplas aninhadas: \n",
            "((0, 1, 2, 3), ('python', 'IGIT'))\n"
          ],
          "name": "stdout"
        }
      ]
    },
    {
      "cell_type": "markdown",
      "metadata": {
        "id": "pWWX1ZNESQe_"
      },
      "source": [
        "### Criando elementos em uma tupla **negrito**"
      ]
    },
    {
      "cell_type": "code",
      "metadata": {
        "colab": {
          "base_uri": "https://localhost:8080/"
        },
        "id": "kzczdyiaSKid",
        "outputId": "a969054a-df75-49de-d425-a6099c2fc254"
      },
      "source": [
        "#Criando uma tupla através de uma função \n",
        "tupla_1 = tuple ([1, 2, 3, 4,5])\n",
        "\n",
        "#Acessando o elemento através do indice \n",
        "print(\"Primeiro elemento tupla\")\n",
        "print(tupla_1[0])\n",
        "\n",
        "#Acessando o último elemento da tupla\n",
        "print(\"Ultimo elemento da tupla\")\n",
        "print(tupla_1[-1])\n",
        "\n",
        "print(\"Encontrando o penúltimo da tupla\")\n",
        "print(tupla_1[-2])"
      ],
      "execution_count": 18,
      "outputs": [
        {
          "output_type": "stream",
          "text": [
            "Primeiro elemento tupla\n",
            "1\n",
            "Ultimo elemento da tupla\n",
            "5\n",
            "Encontrando o penúltimo da tupla\n",
            "4\n"
          ],
          "name": "stdout"
        }
      ]
    },
    {
      "cell_type": "markdown",
      "metadata": {
        "id": "Xw4o0yirWZry"
      },
      "source": [
        "#Deletando e atualizando  elementos em uma tupla "
      ]
    },
    {
      "cell_type": "code",
      "metadata": {
        "colab": {
          "base_uri": "https://localhost:8080/"
        },
        "id": "7xqmpTSQWhYn",
        "outputId": "9bc2e011-40e2-45e2-a0b3-8c9186b1b7af"
      },
      "source": [
        "#Definindo uma tupla \n",
        "tupla_1 = tuple([1, 2, 3, 4, 5])\n",
        "print(\"Tupla inicial\")\n",
        "print(tupla_1)"
      ],
      "execution_count": 19,
      "outputs": [
        {
          "output_type": "stream",
          "text": [
            "Tupla inicial\n",
            "(1, 2, 3, 4, 5)\n"
          ],
          "name": "stdout"
        }
      ]
    },
    {
      "cell_type": "code",
      "metadata": {
        "colab": {
          "base_uri": "https://localhost:8080/",
          "height": 195
        },
        "id": "mkZSmQReXDmS",
        "outputId": "3ce470e2-6fe1-49af-f311-bd4c4136ca37"
      },
      "source": [
        "#Atualizando um valor de tupla\n",
        "tupla_1[0] = -1 \n",
        "prin(tupla_1) "
      ],
      "execution_count": 20,
      "outputs": [
        {
          "output_type": "error",
          "ename": "TypeError",
          "evalue": "ignored",
          "traceback": [
            "\u001b[0;31m---------------------------------------------------------------------------\u001b[0m",
            "\u001b[0;31mTypeError\u001b[0m                                 Traceback (most recent call last)",
            "\u001b[0;32m<ipython-input-20-e843b22027a4>\u001b[0m in \u001b[0;36m<module>\u001b[0;34m()\u001b[0m\n\u001b[1;32m      1\u001b[0m \u001b[0;31m#Atualizando um valor de tupla\u001b[0m\u001b[0;34m\u001b[0m\u001b[0;34m\u001b[0m\u001b[0;34m\u001b[0m\u001b[0m\n\u001b[0;32m----> 2\u001b[0;31m \u001b[0mtupla_1\u001b[0m\u001b[0;34m[\u001b[0m\u001b[0;36m0\u001b[0m\u001b[0;34m]\u001b[0m \u001b[0;34m=\u001b[0m \u001b[0;34m-\u001b[0m\u001b[0;36m1\u001b[0m\u001b[0;34m\u001b[0m\u001b[0;34m\u001b[0m\u001b[0m\n\u001b[0m\u001b[1;32m      3\u001b[0m \u001b[0mprin\u001b[0m\u001b[0;34m(\u001b[0m\u001b[0mtupla_1\u001b[0m\u001b[0;34m)\u001b[0m\u001b[0;34m\u001b[0m\u001b[0;34m\u001b[0m\u001b[0m\n",
            "\u001b[0;31mTypeError\u001b[0m: 'tuple' object does not support item assignment"
          ]
        }
      ]
    },
    {
      "cell_type": "markdown",
      "metadata": {
        "id": "fsIN9aHbXr0U"
      },
      "source": [
        "#Valores Boleanos"
      ]
    },
    {
      "cell_type": "code",
      "metadata": {
        "colab": {
          "base_uri": "https://localhost:8080/"
        },
        "id": "rVVOFoSSXv7W",
        "outputId": "230d4e7a-96eb-4124-a743-b84bb7feac22"
      },
      "source": [
        "#Mostrando os tipos de dados boleanos\n",
        "print(type(True)) #Verdadeiro\n",
        "print(type(False)) #Falso"
      ],
      "execution_count": 21,
      "outputs": [
        {
          "output_type": "stream",
          "text": [
            "<class 'bool'>\n",
            "<class 'bool'>\n"
          ],
          "name": "stdout"
        }
      ]
    },
    {
      "cell_type": "code",
      "metadata": {
        "id": "qh37zvggYSlV"
      },
      "source": [
        ""
      ],
      "execution_count": null,
      "outputs": []
    }
  ]
}