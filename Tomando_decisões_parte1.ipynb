{
  "nbformat": 4,
  "nbformat_minor": 0,
  "metadata": {
    "colab": {
      "name": "Tomando_decisões_parte1.ipynb",
      "provenance": [],
      "authorship_tag": "ABX9TyOWV8J9R+itVsI38vJNHCQX",
      "include_colab_link": true
    },
    "kernelspec": {
      "name": "python3",
      "display_name": "Python 3"
    }
  },
  "cells": [
    {
      "cell_type": "markdown",
      "metadata": {
        "id": "view-in-github",
        "colab_type": "text"
      },
      "source": [
        "<a href=\"https://colab.research.google.com/github/lu7-Research/Project-Learning-in-Python/blob/main/Tomando_decis%C3%B5es_parte1.ipynb\" target=\"_parent\"><img src=\"https://colab.research.google.com/assets/colab-badge.svg\" alt=\"Open In Colab\"/></a>"
      ]
    },
    {
      "cell_type": "markdown",
      "metadata": {
        "id": "foUUL49kRmw6"
      },
      "source": [
        "## Condicional IF"
      ]
    },
    {
      "cell_type": "code",
      "metadata": {
        "colab": {
          "base_uri": "https://localhost:8080/"
        },
        "id": "STu7D1JvSuw6",
        "outputId": "e6746504-2c75-4bf0-8751-93af7e86519e"
      },
      "source": [
        "#Exemplo\n",
        "print('Execução antes do if...')\n",
        "\n",
        "numero=float(input('Entre com um número: '))\n",
        "if numero%2==0: \n",
        "  print('Esse número é par.')\n",
        "\n",
        "print('Execução após o if...')"
      ],
      "execution_count": null,
      "outputs": [
        {
          "output_type": "stream",
          "text": [
            "Execução antes do if...\n",
            "Entre com um número: 5\n",
            "Execução após o if...\n"
          ],
          "name": "stdout"
        }
      ]
    },
    {
      "cell_type": "code",
      "metadata": {
        "colab": {
          "base_uri": "https://localhost:8080/"
        },
        "id": "076iFuCuTldK",
        "outputId": "0bc4afec-70a8-4c1e-e65b-eb796d0a84c4"
      },
      "source": [
        "print('Execução antes do if...')\n",
        "\n",
        "numero=float(input('Entre com um número '))\n",
        "if numero>0:\n",
        "  print('Esse número é positivo. ')\n",
        "\n",
        "  print('Execução após o if...')"
      ],
      "execution_count": null,
      "outputs": [
        {
          "output_type": "stream",
          "text": [
            "Execução antes do if...\n",
            "Entre com um número 1\n",
            "Esse número é positivo. \n",
            "Execução após o if...\n"
          ],
          "name": "stdout"
        }
      ]
    },
    {
      "cell_type": "code",
      "metadata": {
        "id": "3a654V0xVRuI"
      },
      "source": [
        "i = 10\n",
        "if (i > 15):\n",
        "  print(\"10 é maior que 15\" )\n",
        "  print(\"Continuando o programa...\")"
      ],
      "execution_count": null,
      "outputs": []
    },
    {
      "cell_type": "markdown",
      "metadata": {
        "id": "B-2HO-EDWJ8Y"
      },
      "source": [
        "##Caso if-else"
      ]
    },
    {
      "cell_type": "code",
      "metadata": {
        "colab": {
          "base_uri": "https://localhost:8080/"
        },
        "id": "Q7sDFwttWFUI",
        "outputId": "d8c68be4-a44d-40b4-e03e-c186e75fb92d"
      },
      "source": [
        "#Exemplo 2 \n",
        "print('Execução antes do if...')\n",
        "\n",
        "numero=float(input('Entre com um número: '))\n",
        "if numero%2==0: \n",
        " \n",
        "  print('Esse número é par.\\n')\n",
        "else:\n",
        "  print('Esse número é impar.\\n')\n",
        "\n",
        "print('Execução após o if...')"
      ],
      "execution_count": null,
      "outputs": [
        {
          "output_type": "stream",
          "text": [
            "Execução antes do if...\n",
            "Entre com um número: 2\n",
            "Esse número é par.\n",
            "\n",
            "Execução após o if...\n"
          ],
          "name": "stdout"
        }
      ]
    },
    {
      "cell_type": "code",
      "metadata": {
        "colab": {
          "base_uri": "https://localhost:8080/"
        },
        "id": "u-xJpt8OXstY",
        "outputId": "cf092e02-5979-46d2-a63d-69a3690dfd50"
      },
      "source": [
        "i = 20;\n",
        "if (i<15):\n",
        "  print(\"i é menor que 15 \")\n",
        "  print(\"Execução do if...\")\n",
        "else:\n",
        "  print(\"i é maior que 15\")\n",
        "  print(\"Execução do else\")\n",
        "print(\"Continuando o programa.....\")"
      ],
      "execution_count": null,
      "outputs": [
        {
          "output_type": "stream",
          "text": [
            "i é maior que 15\n",
            "Execução do else\n",
            "Continuando o programa.....\n"
          ],
          "name": "stdout"
        }
      ]
    },
    {
      "cell_type": "code",
      "metadata": {
        "colab": {
          "base_uri": "https://localhost:8080/"
        },
        "id": "O56q0VmmY0Pf",
        "outputId": "c2463af7-8e79-4d8f-e101-d43f26944421"
      },
      "source": [
        "#Encontrando o maior valor entre dois números inteiros digitados \n",
        "x=int(input('Digite o primeiro número: '))\n",
        "y=int(input('Digite o segundo número: '))\n",
        "if (x>y):\n",
        "  print('O primerio valor (%2d) é maior que o segundo valor (%2d)'%(x,y))\n",
        "else:\n",
        "  print('O primeiro valor (%2d) é menor que o segundo valor (%2d'%(x,y))"
      ],
      "execution_count": null,
      "outputs": [
        {
          "output_type": "stream",
          "text": [
            "Digite o primeiro número: 10\n",
            "Digite o segundo número: 2\n",
            "O primerio valor (10) é maior que o segundo valor ( 2)\n"
          ],
          "name": "stdout"
        }
      ]
    },
    {
      "cell_type": "markdown",
      "metadata": {
        "id": "WQj0b-i7aE_Z"
      },
      "source": [
        "## IF com condições mais \"elaboradas:\"\n"
      ]
    },
    {
      "cell_type": "code",
      "metadata": {
        "id": "fTb9ZfcFZ3jj",
        "colab": {
          "base_uri": "https://localhost:8080/"
        },
        "outputId": "282271c3-6b16-4081-df40-acc878dddc5e"
      },
      "source": [
        "#IF com or\n",
        "altura = int(input( \"Entre com a sua altura (em centimetros): \"))\n",
        "if (altura<150) or (altura>180): \n",
        "  print(\"Você não pode brincar \")\n",
        "else:\n",
        "    print(\"Você pode brincar: \")"
      ],
      "execution_count": null,
      "outputs": [
        {
          "output_type": "stream",
          "text": [
            "Entre com a sua altura (em centimetros): 150\n",
            "Você pode brincar: \n"
          ],
          "name": "stdout"
        }
      ]
    },
    {
      "cell_type": "code",
      "metadata": {
        "id": "jJd2ypRMmvC0",
        "colab": {
          "base_uri": "https://localhost:8080/"
        },
        "outputId": "1f593c47-6ac8-41c2-e7fa-0d90ea490315"
      },
      "source": [
        "#Advinhando resultados da divisão \n",
        "numerador=float(input( 'Entre com o numerador: '))\n",
        "denominador=float(input(' Entre com o denominador: '))\n",
        "\n",
        "chute=float(input(' Entre com o seu chute para o resultado: '))\n",
        "\n",
        "resultado=numerador/denominador\n",
        "maior=abs(resultado)\n",
        "\n",
        "#Verifica se o chute é até 1/10 do real\n",
        "\n",
        "if abs((chute - resultado)/maior) <=0.1:\n",
        "  print(\"Seu chute está correto. Parabens!! \")\n",
        "else:\n",
        "    print(\"Que pena, você errou. O valor correto é {}\". format(resultado))\n",
        "\n"
      ],
      "execution_count": null,
      "outputs": [
        {
          "output_type": "stream",
          "text": [
            "Entre com o numerador: 2\n",
            " Entre com o denominador: 10\n",
            " Entre com o seu chute para o resultado: 0.1\n",
            "Que pena, você errou. O valor correto é 0.2\n"
          ],
          "name": "stdout"
        }
      ]
    },
    {
      "cell_type": "markdown",
      "metadata": {
        "id": "Q74oi4G9rRDA"
      },
      "source": [
        "##IF ANINHADOS \n",
        "< comandoos antes do if >\n",
        "\n",
        "if < condição 1 >\n",
        "\n",
        "   < executa se a condição 1 é verdadeira>\n",
        "\n",
        "   if < condição 2>\n",
        "\n",
        "   < executa se a condição 2 é verdadeira>\n",
        "\n",
        "   #fim do if2\n",
        "\n",
        "   #fim do if1\n",
        "   \n",
        "   < Comando após o if >"
      ]
    },
    {
      "cell_type": "code",
      "metadata": {
        "id": "9o3t6onqocLp",
        "colab": {
          "base_uri": "https://localhost:8080/"
        },
        "outputId": "4f3bca6a-3d18-4d0b-b594-d9c8cb9672c0"
      },
      "source": [
        "i = 10\n",
        "if ( i== 10):\n",
        "  #Primeiro if\n",
        "  if (i < 15):\n",
        "    print (\"i é maior que 15\")\n",
        "  #O if aninhado só é executado se o anterior for executado\n",
        "  if (i < 12):\n",
        "    print(\"i também é menor que 12 \")\n",
        "  else:\n",
        "    print(\"i é maior que 15 \")\n",
        "print('Continua o programa... ')\n"
      ],
      "execution_count": null,
      "outputs": [
        {
          "output_type": "stream",
          "text": [
            "i é maior que 15\n",
            "i também é menor que 12 \n",
            "Continua o programa... \n"
          ],
          "name": "stdout"
        }
      ]
    },
    {
      "cell_type": "code",
      "metadata": {
        "id": "lueaJ0fytXGV",
        "colab": {
          "base_uri": "https://localhost:8080/"
        },
        "outputId": "578d8697-8ae0-415e-8d03-058c8497dbfe"
      },
      "source": [
        "x = float(input('Entre com um primeiro número: '))\n",
        "y = float(input('Entre com o segundo número'))\n",
        "\n",
        "print('(1) - Soma os dois números')\n",
        "print('(2) - Sutrai os dois números')\n",
        "print('(3) - Multiplica os dois números')\n",
        "print('(4) - Divide os dois números')\n",
        "\n",
        "escolha=int(input('Escolha uma das opções: '))\n",
        "\n",
        "print('O resultado é: ', end=\"\")\n",
        "\n",
        "if escolha==1:\n",
        "  print(x+y)\n",
        "else:\n",
        "  if (escolha==2):\n",
        "    print(x-y)\n",
        "  else:\n",
        "    if (escolha==3):\n",
        "      print(x*y)\n",
        "    else:\n",
        "      if (escolha==4):\n",
        "          print(x/y)\n",
        "      else:\n",
        "              print('Opção inválida')"
      ],
      "execution_count": null,
      "outputs": [
        {
          "output_type": "stream",
          "text": [
            "Entre com um primeiro número: 10\n",
            "Entre com o segundo número20\n",
            "(1) - Soma os dois números\n",
            "(2) - Sutrai os dois números\n",
            "(3) - Multiplica os dois números\n",
            "(4) - Divide os dois números\n",
            "Escolha uma das opções: 6\n",
            "O resultado é: Opção inválida\n"
          ],
          "name": "stdout"
        }
      ]
    },
    {
      "cell_type": "code",
      "metadata": {
        "id": "2GgOAOv_wAey",
        "colab": {
          "base_uri": "https://localhost:8080/"
        },
        "outputId": "a597ae05-8486-45a1-e311-fe012d5feee6"
      },
      "source": [
        " #Outras condicionais aninhadas\n",
        " x=11\n",
        " y=11\n",
        " if x == y:\n",
        "  print('x e y são iguais ')\n",
        "else:\n",
        "   if x < y:\n",
        "        print('x é menor que y ')\n",
        "   else:\n",
        "        print(' X é maior que y ')"
      ],
      "execution_count": null,
      "outputs": [
        {
          "output_type": "stream",
          "text": [
            "x e y são iguais \n"
          ],
          "name": "stdout"
        }
      ]
    },
    {
      "cell_type": "code",
      "metadata": {
        "id": "DkJHPcDrzyX3",
        "colab": {
          "base_uri": "https://localhost:8080/"
        },
        "outputId": "a4e06e8e-bce3-4028-c7af-83227a7bb5a2"
      },
      "source": [
        "i = 25\n",
        "if ( i == 10):\n",
        "  print(\"i igual a 10 \")\n",
        "elif (i == 15 ):\n",
        "  print(\"i é igual a 15 \")\n",
        "elif ( i == 20):\n",
        "  print(\"i é igual a 20\")\n",
        "else:\n",
        "  print(\"i não está nas condiçoes\")\n",
        "print('.........')"
      ],
      "execution_count": null,
      "outputs": [
        {
          "output_type": "stream",
          "text": [
            "i não está nas condiçoes\n",
            ".........\n"
          ],
          "name": "stdout"
        }
      ]
    },
    {
      "cell_type": "code",
      "metadata": {
        "id": "WRjWPLImGd1s",
        "colab": {
          "base_uri": "https://localhost:8080/"
        },
        "outputId": "4eddab6c-e063-4dcc-fce1-07fe2c734a28"
      },
      "source": [
        "x = float(input('Entre com um primeiro número: '))\n",
        "y = float(input('Entre com o segundo valor: '))\n",
        "\n",
        "print('(1) - Soma os dois números')\n",
        "print('(2) - Sutrai os dois números')\n",
        "print('(3) - Multiplica os dois números')\n",
        "print('(4) - Divide os dois números')\n",
        "\n",
        "escolha=int(input('Escolha uma das opções: '))\n",
        "\n",
        "print('O resultado é: ', end=\"\")\n",
        "\n",
        "if escolha==1:\n",
        "  print(x+y)\n",
        "elif (escolha==2):\n",
        "  print(x-y)\n",
        "elif (escolha==3):\n",
        "  print(x*y)\n",
        "elif (escolha==4):\n",
        "  print(x/y)\n",
        "else:\n",
        "  print('Opção inválida')"
      ],
      "execution_count": null,
      "outputs": [
        {
          "output_type": "stream",
          "text": [
            "Entre com um primeiro número: 22.2\n",
            "Entre com o segundo valor: 6\n",
            "(1) - Soma os dois números\n",
            "(2) - Sutrai os dois números\n",
            "(3) - Multiplica os dois números\n",
            "(4) - Divide os dois números\n",
            "Escolha uma das opções: 4\n",
            "O resultado é: 3.6999999999999997\n"
          ],
          "name": "stdout"
        }
      ]
    },
    {
      "cell_type": "code",
      "metadata": {
        "id": "3HInu1S1Kzay",
        "colab": {
          "base_uri": "https://localhost:8080/"
        },
        "outputId": "02e78b83-268d-48ae-a75f-d04ac1fbc50f"
      },
      "source": [
        "x = int (input (\" Entre com o primeiro número inteiro: \"  ))\n",
        "y = int (input (\" Entre com o segundo número inteiro: \"))\n",
        "z = int (input (\" Entre com o terceiro número inteiro: \"))\n",
        "if y > x:\n",
        "  if z > y:\n",
        "   print(z, \"É maior que número. \" )\n",
        "  else:\n",
        "   print(y, \"É o maior número \" )\n",
        "else:\n",
        "   if z > x:\n",
        "    print(z, \"É o maior número \" )\n",
        "   else: \n",
        "    print(x, \"É o maior número \" )\n",
        "print( \" Fim. \")"
      ],
      "execution_count": null,
      "outputs": [
        {
          "output_type": "stream",
          "text": [
            " Entre com o primeiro número inteiro: 1\n",
            " Entre com o segundo número inteiro: 2\n",
            " Entre com o terceiro número inteiro: 3\n",
            "3 É maior que número. \n",
            " Fim. \n"
          ],
          "name": "stdout"
        }
      ]
    },
    {
      "cell_type": "markdown",
      "metadata": {
        "id": "jt3oqW1tPIzw"
      },
      "source": [
        "## Foma mais inteligente \n"
      ]
    },
    {
      "cell_type": "code",
      "metadata": {
        "id": "YKDo77z8PK83",
        "colab": {
          "base_uri": "https://localhost:8080/"
        },
        "outputId": "3ce9aeb0-8024-4031-bbc8-9c2bb29cf4cb"
      },
      "source": [
        "x = int (input (\" Entre com o primeiro número inteiro: \"  ))\n",
        "y = int (input (\" Entre com o segundo número inteiro: \"))\n",
        "z = int (input (\" Entre com o terceiro número inteiro: \"))\n",
        "#Primeiro Chute\n",
        "maior_numero = x\n",
        "if y > maior_numero :\n",
        " #Ajusta o primeiro chute\n",
        " maior_numero = y\n",
        "if z > maior_numero :\n",
        "  #Ajusta o segundo chute\n",
        "  maior_numero = z \n",
        "print( maior_numero , \"É o maior número. \")\n",
        "print(\" Fim. \")\n"
      ],
      "execution_count": null,
      "outputs": [
        {
          "output_type": "stream",
          "text": [
            " Entre com o primeiro número inteiro: 1\n",
            " Entre com o segundo número inteiro: 2\n",
            " Entre com o terceiro número inteiro: 3\n",
            "3 É o maior número. \n",
            " Fim. \n"
          ],
          "name": "stdout"
        }
      ]
    },
    {
      "cell_type": "markdown",
      "metadata": {
        "id": "aymM7ZUsyhZH"
      },
      "source": [
        "## Trabalhando exceções "
      ]
    },
    {
      "cell_type": "markdown",
      "metadata": {
        "id": "qQU7_kRKyzxF"
      },
      "source": [
        "Exceções Vs Erros de sintaxe"
      ]
    },
    {
      "cell_type": "code",
      "metadata": {
        "id": "R5GFjbQIQjmG"
      },
      "source": [
        "#erro Vs Erros de Sintaxe\n",
        "print( 0 /0)"
      ],
      "execution_count": null,
      "outputs": []
    },
    {
      "cell_type": "code",
      "metadata": {
        "id": "bCajnNmKzqR9",
        "outputId": "2ee1cc77-bc00-4e5b-ef93-e3b80fae4be9",
        "colab": {
          "base_uri": "https://localhost:8080/"
        }
      },
      "source": [
        "#Gerando Exceção\n",
        "x = 4\n",
        "if x > 5:\n",
        "  raise Exception('x não deve ser maior que 5. O valor de x digitado foi: {}' .format(x))\n",
        "print('....')"
      ],
      "execution_count": 135,
      "outputs": [
        {
          "output_type": "stream",
          "text": [
            "....\n"
          ],
          "name": "stdout"
        }
      ]
    },
    {
      "cell_type": "code",
      "metadata": {
        "id": "eWhkoNF305Yl",
        "outputId": "a06b841a-50e4-42f5-fa4c-a52e348cdada",
        "colab": {
          "base_uri": "https://localhost:8080/"
        }
      },
      "source": [
        "#Lidando com erros - Verificando se um número é divisivel por outro\n",
        "\n",
        "numerador=int(input(\"Entre com o numerador: \"))\n",
        "denominador=int(input(\"Entre com o denominador: \"))\n",
        "if numerador % denominador ==0:\n",
        "  print(\"O numerador é divisivel pelo denominador.\")\n",
        "else:\n",
        "  print(\"A divisão não é inteira \")"
      ],
      "execution_count": 138,
      "outputs": [
        {
          "output_type": "stream",
          "text": [
            "Entre com o numerador: 10\n",
            "Entre com o denominador: 3\n",
            "A divisão não é inteira \n"
          ],
          "name": "stdout"
        }
      ]
    },
    {
      "cell_type": "code",
      "metadata": {
        "id": "3ltN9zmF2N_G",
        "outputId": "a5d6bc93-b7f0-4dc1-9baf-b3152f045cd3",
        "colab": {
          "base_uri": "https://localhost:8080/",
          "height": 128
        }
      },
      "source": [
        "#Exemplo de adivinhação com exceções\n",
        "try:\n",
        "  numerador=int(input(\"Entre com o numerador: \"))\n",
        "except ValueError: #Caputura apenas exceções do tipo ValueError\n",
        "    print(\"Você não entrou com um número inteiro.\")\n",
        "    exit(0)\n",
        "    \n",
        "try:    \n",
        "  denominador=int(input(\"Entre com o denominador: \"))\n",
        "if numerador % denominador ==0:\n",
        "  print(\"O numerador é divisivel pelo denominador. \") \n",
        "except: #Lida com qualquer tipo erro\n",
        "  print(\"Você não entrou com um número inteiro.\")\n",
        "  exit(0)\n",
        "\n"
      ],
      "execution_count": 146,
      "outputs": [
        {
          "output_type": "error",
          "ename": "IndentationError",
          "evalue": "ignored",
          "traceback": [
            "\u001b[0;36m  File \u001b[0;32m\"<ipython-input-146-35a1ffa52a10>\"\u001b[0;36m, line \u001b[0;32m9\u001b[0m\n\u001b[0;31m    if numerador % denominador ==0:\u001b[0m\n\u001b[0m    ^\u001b[0m\n\u001b[0;31mIndentationError\u001b[0m\u001b[0;31m:\u001b[0m unexpected indent\n"
          ]
        }
      ]
    },
    {
      "cell_type": "code",
      "metadata": {
        "id": "g8Nt4ann8--U"
      },
      "source": [
        ""
      ],
      "execution_count": null,
      "outputs": []
    }
  ]
}