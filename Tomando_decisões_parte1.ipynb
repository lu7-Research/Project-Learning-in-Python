{
  "nbformat": 4,
  "nbformat_minor": 0,
  "metadata": {
    "colab": {
      "name": "Tomando_decisões_parte1.ipynb",
      "provenance": [],
      "authorship_tag": "ABX9TyPp9grC5skcX2K05EnJn+j9",
      "include_colab_link": true
    },
    "kernelspec": {
      "name": "python3",
      "display_name": "Python 3"
    }
  },
  "cells": [
    {
      "cell_type": "markdown",
      "metadata": {
        "id": "view-in-github",
        "colab_type": "text"
      },
      "source": [
        "<a href=\"https://colab.research.google.com/github/lu7-Research/Project-Learning-in-Python/blob/main/Tomando_decis%C3%B5es_parte1.ipynb\" target=\"_parent\"><img src=\"https://colab.research.google.com/assets/colab-badge.svg\" alt=\"Open In Colab\"/></a>"
      ]
    },
    {
      "cell_type": "markdown",
      "metadata": {
        "id": "foUUL49kRmw6"
      },
      "source": [
        "## Condicional IF"
      ]
    },
    {
      "cell_type": "code",
      "metadata": {
        "colab": {
          "base_uri": "https://localhost:8080/"
        },
        "id": "STu7D1JvSuw6",
        "outputId": "e6746504-2c75-4bf0-8751-93af7e86519e"
      },
      "source": [
        "#Exemplo\n",
        "print('Execução antes do if...')\n",
        "\n",
        "numero=float(input('Entre com um número: '))\n",
        "if numero%2==0: \n",
        "  print('Esse número é par.')\n",
        "\n",
        "print('Execução após o if...')"
      ],
      "execution_count": 9,
      "outputs": [
        {
          "output_type": "stream",
          "text": [
            "Execução antes do if...\n",
            "Entre com um número: 5\n",
            "Execução após o if...\n"
          ],
          "name": "stdout"
        }
      ]
    },
    {
      "cell_type": "code",
      "metadata": {
        "colab": {
          "base_uri": "https://localhost:8080/"
        },
        "id": "076iFuCuTldK",
        "outputId": "0bc4afec-70a8-4c1e-e65b-eb796d0a84c4"
      },
      "source": [
        "print('Execução antes do if...')\n",
        "\n",
        "numero=float(input('Entre com um número '))\n",
        "if numero>0:\n",
        "  print('Esse número é positivo. ')\n",
        "\n",
        "  print('Execução após o if...')"
      ],
      "execution_count": 13,
      "outputs": [
        {
          "output_type": "stream",
          "text": [
            "Execução antes do if...\n",
            "Entre com um número 1\n",
            "Esse número é positivo. \n",
            "Execução após o if...\n"
          ],
          "name": "stdout"
        }
      ]
    },
    {
      "cell_type": "code",
      "metadata": {
        "id": "3a654V0xVRuI"
      },
      "source": [
        "i = 10\n",
        "if (i > 15):\n",
        "  print(\"10 é maior que 15\" )\n",
        "  print(\"Continuando o programa...\")"
      ],
      "execution_count": 14,
      "outputs": []
    },
    {
      "cell_type": "markdown",
      "metadata": {
        "id": "B-2HO-EDWJ8Y"
      },
      "source": [
        "##Caso if-else"
      ]
    },
    {
      "cell_type": "code",
      "metadata": {
        "colab": {
          "base_uri": "https://localhost:8080/"
        },
        "id": "Q7sDFwttWFUI",
        "outputId": "d8c68be4-a44d-40b4-e03e-c186e75fb92d"
      },
      "source": [
        "#Exemplo 2 \n",
        "print('Execução antes do if...')\n",
        "\n",
        "numero=float(input('Entre com um número: '))\n",
        "if numero%2==0: \n",
        " \n",
        "  print('Esse número é par.\\n')\n",
        "else:\n",
        "  print('Esse número é impar.\\n')\n",
        "\n",
        "print('Execução após o if...')"
      ],
      "execution_count": 17,
      "outputs": [
        {
          "output_type": "stream",
          "text": [
            "Execução antes do if...\n",
            "Entre com um número: 2\n",
            "Esse número é par.\n",
            "\n",
            "Execução após o if...\n"
          ],
          "name": "stdout"
        }
      ]
    },
    {
      "cell_type": "code",
      "metadata": {
        "colab": {
          "base_uri": "https://localhost:8080/"
        },
        "id": "u-xJpt8OXstY",
        "outputId": "cf092e02-5979-46d2-a63d-69a3690dfd50"
      },
      "source": [
        "i = 20;\n",
        "if (i<15):\n",
        "  print(\"i é menor que 15 \")\n",
        "  print(\"Execução do if...\")\n",
        "else:\n",
        "  print(\"i é maior que 15\")\n",
        "  print(\"Execução do else\")\n",
        "print(\"Continuando o programa.....\")"
      ],
      "execution_count": 20,
      "outputs": [
        {
          "output_type": "stream",
          "text": [
            "i é maior que 15\n",
            "Execução do else\n",
            "Continuando o programa.....\n"
          ],
          "name": "stdout"
        }
      ]
    },
    {
      "cell_type": "code",
      "metadata": {
        "colab": {
          "base_uri": "https://localhost:8080/"
        },
        "id": "O56q0VmmY0Pf",
        "outputId": "c2463af7-8e79-4d8f-e101-d43f26944421"
      },
      "source": [
        "#Encontrando o maior valor entre dois números inteiros digitados \n",
        "x=int(input('Digite o primeiro número: '))\n",
        "y=int(input('Digite o segundo número: '))\n",
        "if (x>y):\n",
        "  print('O primerio valor (%2d) é maior que o segundo valor (%2d)'%(x,y))\n",
        "else:\n",
        "  print('O primeiro valor (%2d) é menor que o segundo valor (%2d'%(x,y))"
      ],
      "execution_count": 22,
      "outputs": [
        {
          "output_type": "stream",
          "text": [
            "Digite o primeiro número: 10\n",
            "Digite o segundo número: 2\n",
            "O primerio valor (10) é maior que o segundo valor ( 2)\n"
          ],
          "name": "stdout"
        }
      ]
    },
    {
      "cell_type": "markdown",
      "metadata": {
        "id": "WQj0b-i7aE_Z"
      },
      "source": [
        "## IF com condições mais \"elaboradas:\"\n"
      ]
    },
    {
      "cell_type": "code",
      "metadata": {
        "id": "fTb9ZfcFZ3jj"
      },
      "source": [
        "#IF com"
      ],
      "execution_count": null,
      "outputs": []
    }
  ]
}